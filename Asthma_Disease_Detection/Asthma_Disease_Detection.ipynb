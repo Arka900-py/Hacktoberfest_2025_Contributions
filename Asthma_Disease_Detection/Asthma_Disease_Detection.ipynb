{
  "nbformat": 4,
  "nbformat_minor": 0,
  "metadata": {
    "colab": {
      "provenance": []
    },
    "kernelspec": {
      "name": "python3",
      "display_name": "Python 3"
    },
    "language_info": {
      "name": "python"
    }
  },
  "cells": [
    {
      "cell_type": "code",
      "execution_count": null,
      "metadata": {
        "id": "AZkhzi6Qz8x6"
      },
      "outputs": [],
      "source": [
        "import numpy as np\n",
        "import pandas as pd\n",
        "import matplotlib.pyplot as plt\n",
        "import seaborn as sns"
      ]
    },
    {
      "cell_type": "code",
      "source": [
        "data = pd.read_csv('asthma_disease_data.csv')"
      ],
      "metadata": {
        "id": "PSnr-7qC0GCJ"
      },
      "execution_count": null,
      "outputs": []
    },
    {
      "cell_type": "code",
      "source": [
        "print(\"First 5 rows of data:\")\n",
        "print(data.head())"
      ],
      "metadata": {
        "colab": {
          "base_uri": "https://localhost:8080/"
        },
        "id": "xD1uq2Py0qjL",
        "outputId": "6b73ff23-bfa9-4dac-ad75-3818db64aa58"
      },
      "execution_count": null,
      "outputs": [
        {
          "output_type": "stream",
          "name": "stdout",
          "text": [
            "First 5 rows of data:\n",
            "   PatientID  Age  Gender  Ethnicity  EducationLevel        BMI  Smoking  \\\n",
            "0       5034   63       0          1               0  15.848744        0   \n",
            "1       5035   26       1          2               2  22.757042        0   \n",
            "2       5036   57       0          2               1  18.395396        0   \n",
            "3       5037   40       1          2               1  38.515278        0   \n",
            "4       5038   61       0          0               3  19.283802        0   \n",
            "\n",
            "   PhysicalActivity  DietQuality  SleepQuality  ...  LungFunctionFEV1  \\\n",
            "0          0.894448     5.488696      8.701003  ...          1.369051   \n",
            "1          5.897329     6.341014      5.153966  ...          2.197767   \n",
            "2          6.739367     9.196237      6.840647  ...          1.698011   \n",
            "3          1.404503     5.826532      4.253036  ...          3.032037   \n",
            "4          4.604493     3.127048      9.625799  ...          3.470589   \n",
            "\n",
            "   LungFunctionFVC  Wheezing  ShortnessOfBreath  ChestTightness  Coughing  \\\n",
            "0         4.941206         0                  0               1         0   \n",
            "1         1.702393         1                  0               0         1   \n",
            "2         5.022553         1                  1               1         0   \n",
            "3         2.300159         1                  0               1         1   \n",
            "4         3.067944         1                  1               1         0   \n",
            "\n",
            "   NighttimeSymptoms  ExerciseInduced  Diagnosis  DoctorInCharge  \n",
            "0                  0                1          0       Dr_Confid  \n",
            "1                  1                1          0       Dr_Confid  \n",
            "2                  1                1          0       Dr_Confid  \n",
            "3                  1                0          0       Dr_Confid  \n",
            "4                  0                1          0       Dr_Confid  \n",
            "\n",
            "[5 rows x 29 columns]\n"
          ]
        }
      ]
    },
    {
      "cell_type": "code",
      "source": [
        "print(\"Last 5 rows of data:\")\n",
        "print(data.tail())"
      ],
      "metadata": {
        "colab": {
          "base_uri": "https://localhost:8080/"
        },
        "id": "yB1BtAFt0ddo",
        "outputId": "6d7ec2cc-d1d2-4b79-e248-a8932e001a17"
      },
      "execution_count": null,
      "outputs": [
        {
          "output_type": "stream",
          "name": "stdout",
          "text": [
            "Last 5 rows of data:\n",
            "      PatientID  Age  Gender  Ethnicity  EducationLevel        BMI  Smoking  \\\n",
            "2387       7421   43       1          0               2  29.059613        0   \n",
            "2388       7422   18       1          0               1  20.740850        0   \n",
            "2389       7423   54       0          3               2  37.079560        0   \n",
            "2390       7424   46       1          0               2  23.444712        0   \n",
            "2391       7425   26       1          0               0  28.123021        1   \n",
            "\n",
            "      PhysicalActivity  DietQuality  SleepQuality  ...  LungFunctionFEV1  \\\n",
            "2387          3.019854     6.119637      8.300960  ...          3.125249   \n",
            "2388          5.805180     4.386992      7.731192  ...          1.132977   \n",
            "2389          4.735169     8.214064      7.483521  ...          1.685962   \n",
            "2390          9.672637     7.362861      6.717272  ...          3.481549   \n",
            "2391          1.613138     7.412878      8.512253  ...          2.280613   \n",
            "\n",
            "      LungFunctionFVC  Wheezing  ShortnessOfBreath  ChestTightness  Coughing  \\\n",
            "2387         5.166032         0                  1               0         0   \n",
            "2388         5.509502         0                  0               0         1   \n",
            "2389         3.346877         1                  0               1         1   \n",
            "2390         1.713274         0                  1               1         0   \n",
            "2391         2.453284         1                  1               0         0   \n",
            "\n",
            "      NighttimeSymptoms  ExerciseInduced  Diagnosis  DoctorInCharge  \n",
            "2387                  0                1          1       Dr_Confid  \n",
            "2388                  1                0          1       Dr_Confid  \n",
            "2389                  0                1          1       Dr_Confid  \n",
            "2390                  1                1          0       Dr_Confid  \n",
            "2391                  1                0          0       Dr_Confid  \n",
            "\n",
            "[5 rows x 29 columns]\n"
          ]
        }
      ]
    },
    {
      "cell_type": "code",
      "source": [
        "print(\"Columns:\")\n",
        "print(data.columns)"
      ],
      "metadata": {
        "colab": {
          "base_uri": "https://localhost:8080/"
        },
        "id": "PuFJl3Om1Cp0",
        "outputId": "bc78792d-61b4-4898-8639-15f553611762"
      },
      "execution_count": null,
      "outputs": [
        {
          "output_type": "stream",
          "name": "stdout",
          "text": [
            "Columns:\n",
            "Index(['PatientID', 'Age', 'Gender', 'Ethnicity', 'EducationLevel', 'BMI',\n",
            "       'Smoking', 'PhysicalActivity', 'DietQuality', 'SleepQuality',\n",
            "       'PollutionExposure', 'PollenExposure', 'DustExposure', 'PetAllergy',\n",
            "       'FamilyHistoryAsthma', 'HistoryOfAllergies', 'Eczema', 'HayFever',\n",
            "       'GastroesophagealReflux', 'LungFunctionFEV1', 'LungFunctionFVC',\n",
            "       'Wheezing', 'ShortnessOfBreath', 'ChestTightness', 'Coughing',\n",
            "       'NighttimeSymptoms', 'ExerciseInduced', 'Diagnosis', 'DoctorInCharge'],\n",
            "      dtype='object')\n"
          ]
        }
      ]
    },
    {
      "cell_type": "code",
      "source": [
        "print(\"Data type of each column:\")\n",
        "print(data.dtypes)"
      ],
      "metadata": {
        "colab": {
          "base_uri": "https://localhost:8080/"
        },
        "id": "-Ng43okq0hsN",
        "outputId": "0af092b6-dcb5-4b13-ad46-e0698f2cc763"
      },
      "execution_count": null,
      "outputs": [
        {
          "output_type": "stream",
          "name": "stdout",
          "text": [
            "Data type of each column:\n",
            "PatientID                   int64\n",
            "Age                         int64\n",
            "Gender                      int64\n",
            "Ethnicity                   int64\n",
            "EducationLevel              int64\n",
            "BMI                       float64\n",
            "Smoking                     int64\n",
            "PhysicalActivity          float64\n",
            "DietQuality               float64\n",
            "SleepQuality              float64\n",
            "PollutionExposure         float64\n",
            "PollenExposure            float64\n",
            "DustExposure              float64\n",
            "PetAllergy                  int64\n",
            "FamilyHistoryAsthma         int64\n",
            "HistoryOfAllergies          int64\n",
            "Eczema                      int64\n",
            "HayFever                    int64\n",
            "GastroesophagealReflux      int64\n",
            "LungFunctionFEV1          float64\n",
            "LungFunctionFVC           float64\n",
            "Wheezing                    int64\n",
            "ShortnessOfBreath           int64\n",
            "ChestTightness              int64\n",
            "Coughing                    int64\n",
            "NighttimeSymptoms           int64\n",
            "ExerciseInduced             int64\n",
            "Diagnosis                   int64\n",
            "DoctorInCharge             object\n",
            "dtype: object\n"
          ]
        }
      ]
    },
    {
      "cell_type": "code",
      "source": [
        "print(data.shape)"
      ],
      "metadata": {
        "colab": {
          "base_uri": "https://localhost:8080/"
        },
        "id": "Bu-lBayucOVC",
        "outputId": "27bef929-1dea-4de7-f376-233a92578675"
      },
      "execution_count": null,
      "outputs": [
        {
          "output_type": "stream",
          "name": "stdout",
          "text": [
            "(2392, 29)\n"
          ]
        }
      ]
    },
    {
      "cell_type": "code",
      "source": [
        "print(\"Missing values in each column:\")\n",
        "print(data.isnull().sum())"
      ],
      "metadata": {
        "colab": {
          "base_uri": "https://localhost:8080/"
        },
        "id": "8sv01XmHcSOU",
        "outputId": "36e08a76-ceae-440d-caec-43e8c3d9bbac"
      },
      "execution_count": null,
      "outputs": [
        {
          "output_type": "stream",
          "name": "stdout",
          "text": [
            "Missing values in each column:\n",
            "PatientID                 0\n",
            "Age                       0\n",
            "Gender                    0\n",
            "Ethnicity                 0\n",
            "EducationLevel            0\n",
            "BMI                       0\n",
            "Smoking                   0\n",
            "PhysicalActivity          0\n",
            "DietQuality               0\n",
            "SleepQuality              0\n",
            "PollutionExposure         0\n",
            "PollenExposure            0\n",
            "DustExposure              0\n",
            "PetAllergy                0\n",
            "FamilyHistoryAsthma       0\n",
            "HistoryOfAllergies        0\n",
            "Eczema                    0\n",
            "HayFever                  0\n",
            "GastroesophagealReflux    0\n",
            "LungFunctionFEV1          0\n",
            "LungFunctionFVC           0\n",
            "Wheezing                  0\n",
            "ShortnessOfBreath         0\n",
            "ChestTightness            0\n",
            "Coughing                  0\n",
            "NighttimeSymptoms         0\n",
            "ExerciseInduced           0\n",
            "Diagnosis                 0\n",
            "DoctorInCharge            0\n",
            "dtype: int64\n"
          ]
        }
      ]
    },
    {
      "cell_type": "code",
      "source": [
        "X = data.drop(columns = ['PatientID','Diagnosis', 'DoctorInCharge'])\n",
        "y = data['Diagnosis']"
      ],
      "metadata": {
        "id": "nCphIOZD0nkw"
      },
      "execution_count": null,
      "outputs": []
    },
    {
      "cell_type": "code",
      "source": [
        "X.head()"
      ],
      "metadata": {
        "colab": {
          "base_uri": "https://localhost:8080/",
          "height": 255
        },
        "id": "Q-H_-pNSV6LI",
        "outputId": "fd0745c3-fd55-42c0-9b91-387f02ceb214"
      },
      "execution_count": null,
      "outputs": [
        {
          "output_type": "execute_result",
          "data": {
            "text/plain": [
              "   Age  Gender  Ethnicity  EducationLevel        BMI  Smoking  \\\n",
              "0   63       0          1               0  15.848744        0   \n",
              "1   26       1          2               2  22.757042        0   \n",
              "2   57       0          2               1  18.395396        0   \n",
              "3   40       1          2               1  38.515278        0   \n",
              "4   61       0          0               3  19.283802        0   \n",
              "\n",
              "   PhysicalActivity  DietQuality  SleepQuality  PollutionExposure  ...  \\\n",
              "0          0.894448     5.488696      8.701003           7.388481  ...   \n",
              "1          5.897329     6.341014      5.153966           1.969838  ...   \n",
              "2          6.739367     9.196237      6.840647           1.460593  ...   \n",
              "3          1.404503     5.826532      4.253036           0.581905  ...   \n",
              "4          4.604493     3.127048      9.625799           0.980875  ...   \n",
              "\n",
              "   HayFever  GastroesophagealReflux  LungFunctionFEV1  LungFunctionFVC  \\\n",
              "0         0                       0          1.369051         4.941206   \n",
              "1         0                       0          2.197767         1.702393   \n",
              "2         1                       0          1.698011         5.022553   \n",
              "3         1                       0          3.032037         2.300159   \n",
              "4         1                       0          3.470589         3.067944   \n",
              "\n",
              "   Wheezing  ShortnessOfBreath  ChestTightness  Coughing  NighttimeSymptoms  \\\n",
              "0         0                  0               1         0                  0   \n",
              "1         1                  0               0         1                  1   \n",
              "2         1                  1               1         0                  1   \n",
              "3         1                  0               1         1                  1   \n",
              "4         1                  1               1         0                  0   \n",
              "\n",
              "   ExerciseInduced  \n",
              "0                1  \n",
              "1                1  \n",
              "2                1  \n",
              "3                0  \n",
              "4                1  \n",
              "\n",
              "[5 rows x 26 columns]"
            ],
            "text/html": [
              "\n",
              "  <div id=\"df-48470406-fa17-4ca8-8eb8-643c1a7d383b\" class=\"colab-df-container\">\n",
              "    <div>\n",
              "<style scoped>\n",
              "    .dataframe tbody tr th:only-of-type {\n",
              "        vertical-align: middle;\n",
              "    }\n",
              "\n",
              "    .dataframe tbody tr th {\n",
              "        vertical-align: top;\n",
              "    }\n",
              "\n",
              "    .dataframe thead th {\n",
              "        text-align: right;\n",
              "    }\n",
              "</style>\n",
              "<table border=\"1\" class=\"dataframe\">\n",
              "  <thead>\n",
              "    <tr style=\"text-align: right;\">\n",
              "      <th></th>\n",
              "      <th>Age</th>\n",
              "      <th>Gender</th>\n",
              "      <th>Ethnicity</th>\n",
              "      <th>EducationLevel</th>\n",
              "      <th>BMI</th>\n",
              "      <th>Smoking</th>\n",
              "      <th>PhysicalActivity</th>\n",
              "      <th>DietQuality</th>\n",
              "      <th>SleepQuality</th>\n",
              "      <th>PollutionExposure</th>\n",
              "      <th>...</th>\n",
              "      <th>HayFever</th>\n",
              "      <th>GastroesophagealReflux</th>\n",
              "      <th>LungFunctionFEV1</th>\n",
              "      <th>LungFunctionFVC</th>\n",
              "      <th>Wheezing</th>\n",
              "      <th>ShortnessOfBreath</th>\n",
              "      <th>ChestTightness</th>\n",
              "      <th>Coughing</th>\n",
              "      <th>NighttimeSymptoms</th>\n",
              "      <th>ExerciseInduced</th>\n",
              "    </tr>\n",
              "  </thead>\n",
              "  <tbody>\n",
              "    <tr>\n",
              "      <th>0</th>\n",
              "      <td>63</td>\n",
              "      <td>0</td>\n",
              "      <td>1</td>\n",
              "      <td>0</td>\n",
              "      <td>15.848744</td>\n",
              "      <td>0</td>\n",
              "      <td>0.894448</td>\n",
              "      <td>5.488696</td>\n",
              "      <td>8.701003</td>\n",
              "      <td>7.388481</td>\n",
              "      <td>...</td>\n",
              "      <td>0</td>\n",
              "      <td>0</td>\n",
              "      <td>1.369051</td>\n",
              "      <td>4.941206</td>\n",
              "      <td>0</td>\n",
              "      <td>0</td>\n",
              "      <td>1</td>\n",
              "      <td>0</td>\n",
              "      <td>0</td>\n",
              "      <td>1</td>\n",
              "    </tr>\n",
              "    <tr>\n",
              "      <th>1</th>\n",
              "      <td>26</td>\n",
              "      <td>1</td>\n",
              "      <td>2</td>\n",
              "      <td>2</td>\n",
              "      <td>22.757042</td>\n",
              "      <td>0</td>\n",
              "      <td>5.897329</td>\n",
              "      <td>6.341014</td>\n",
              "      <td>5.153966</td>\n",
              "      <td>1.969838</td>\n",
              "      <td>...</td>\n",
              "      <td>0</td>\n",
              "      <td>0</td>\n",
              "      <td>2.197767</td>\n",
              "      <td>1.702393</td>\n",
              "      <td>1</td>\n",
              "      <td>0</td>\n",
              "      <td>0</td>\n",
              "      <td>1</td>\n",
              "      <td>1</td>\n",
              "      <td>1</td>\n",
              "    </tr>\n",
              "    <tr>\n",
              "      <th>2</th>\n",
              "      <td>57</td>\n",
              "      <td>0</td>\n",
              "      <td>2</td>\n",
              "      <td>1</td>\n",
              "      <td>18.395396</td>\n",
              "      <td>0</td>\n",
              "      <td>6.739367</td>\n",
              "      <td>9.196237</td>\n",
              "      <td>6.840647</td>\n",
              "      <td>1.460593</td>\n",
              "      <td>...</td>\n",
              "      <td>1</td>\n",
              "      <td>0</td>\n",
              "      <td>1.698011</td>\n",
              "      <td>5.022553</td>\n",
              "      <td>1</td>\n",
              "      <td>1</td>\n",
              "      <td>1</td>\n",
              "      <td>0</td>\n",
              "      <td>1</td>\n",
              "      <td>1</td>\n",
              "    </tr>\n",
              "    <tr>\n",
              "      <th>3</th>\n",
              "      <td>40</td>\n",
              "      <td>1</td>\n",
              "      <td>2</td>\n",
              "      <td>1</td>\n",
              "      <td>38.515278</td>\n",
              "      <td>0</td>\n",
              "      <td>1.404503</td>\n",
              "      <td>5.826532</td>\n",
              "      <td>4.253036</td>\n",
              "      <td>0.581905</td>\n",
              "      <td>...</td>\n",
              "      <td>1</td>\n",
              "      <td>0</td>\n",
              "      <td>3.032037</td>\n",
              "      <td>2.300159</td>\n",
              "      <td>1</td>\n",
              "      <td>0</td>\n",
              "      <td>1</td>\n",
              "      <td>1</td>\n",
              "      <td>1</td>\n",
              "      <td>0</td>\n",
              "    </tr>\n",
              "    <tr>\n",
              "      <th>4</th>\n",
              "      <td>61</td>\n",
              "      <td>0</td>\n",
              "      <td>0</td>\n",
              "      <td>3</td>\n",
              "      <td>19.283802</td>\n",
              "      <td>0</td>\n",
              "      <td>4.604493</td>\n",
              "      <td>3.127048</td>\n",
              "      <td>9.625799</td>\n",
              "      <td>0.980875</td>\n",
              "      <td>...</td>\n",
              "      <td>1</td>\n",
              "      <td>0</td>\n",
              "      <td>3.470589</td>\n",
              "      <td>3.067944</td>\n",
              "      <td>1</td>\n",
              "      <td>1</td>\n",
              "      <td>1</td>\n",
              "      <td>0</td>\n",
              "      <td>0</td>\n",
              "      <td>1</td>\n",
              "    </tr>\n",
              "  </tbody>\n",
              "</table>\n",
              "<p>5 rows × 26 columns</p>\n",
              "</div>\n",
              "    <div class=\"colab-df-buttons\">\n",
              "\n",
              "  <div class=\"colab-df-container\">\n",
              "    <button class=\"colab-df-convert\" onclick=\"convertToInteractive('df-48470406-fa17-4ca8-8eb8-643c1a7d383b')\"\n",
              "            title=\"Convert this dataframe to an interactive table.\"\n",
              "            style=\"display:none;\">\n",
              "\n",
              "  <svg xmlns=\"http://www.w3.org/2000/svg\" height=\"24px\" viewBox=\"0 -960 960 960\">\n",
              "    <path d=\"M120-120v-720h720v720H120Zm60-500h600v-160H180v160Zm220 220h160v-160H400v160Zm0 220h160v-160H400v160ZM180-400h160v-160H180v160Zm440 0h160v-160H620v160ZM180-180h160v-160H180v160Zm440 0h160v-160H620v160Z\"/>\n",
              "  </svg>\n",
              "    </button>\n",
              "\n",
              "  <style>\n",
              "    .colab-df-container {\n",
              "      display:flex;\n",
              "      gap: 12px;\n",
              "    }\n",
              "\n",
              "    .colab-df-convert {\n",
              "      background-color: #E8F0FE;\n",
              "      border: none;\n",
              "      border-radius: 50%;\n",
              "      cursor: pointer;\n",
              "      display: none;\n",
              "      fill: #1967D2;\n",
              "      height: 32px;\n",
              "      padding: 0 0 0 0;\n",
              "      width: 32px;\n",
              "    }\n",
              "\n",
              "    .colab-df-convert:hover {\n",
              "      background-color: #E2EBFA;\n",
              "      box-shadow: 0px 1px 2px rgba(60, 64, 67, 0.3), 0px 1px 3px 1px rgba(60, 64, 67, 0.15);\n",
              "      fill: #174EA6;\n",
              "    }\n",
              "\n",
              "    .colab-df-buttons div {\n",
              "      margin-bottom: 4px;\n",
              "    }\n",
              "\n",
              "    [theme=dark] .colab-df-convert {\n",
              "      background-color: #3B4455;\n",
              "      fill: #D2E3FC;\n",
              "    }\n",
              "\n",
              "    [theme=dark] .colab-df-convert:hover {\n",
              "      background-color: #434B5C;\n",
              "      box-shadow: 0px 1px 3px 1px rgba(0, 0, 0, 0.15);\n",
              "      filter: drop-shadow(0px 1px 2px rgba(0, 0, 0, 0.3));\n",
              "      fill: #FFFFFF;\n",
              "    }\n",
              "  </style>\n",
              "\n",
              "    <script>\n",
              "      const buttonEl =\n",
              "        document.querySelector('#df-48470406-fa17-4ca8-8eb8-643c1a7d383b button.colab-df-convert');\n",
              "      buttonEl.style.display =\n",
              "        google.colab.kernel.accessAllowed ? 'block' : 'none';\n",
              "\n",
              "      async function convertToInteractive(key) {\n",
              "        const element = document.querySelector('#df-48470406-fa17-4ca8-8eb8-643c1a7d383b');\n",
              "        const dataTable =\n",
              "          await google.colab.kernel.invokeFunction('convertToInteractive',\n",
              "                                                    [key], {});\n",
              "        if (!dataTable) return;\n",
              "\n",
              "        const docLinkHtml = 'Like what you see? Visit the ' +\n",
              "          '<a target=\"_blank\" href=https://colab.research.google.com/notebooks/data_table.ipynb>data table notebook</a>'\n",
              "          + ' to learn more about interactive tables.';\n",
              "        element.innerHTML = '';\n",
              "        dataTable['output_type'] = 'display_data';\n",
              "        await google.colab.output.renderOutput(dataTable, element);\n",
              "        const docLink = document.createElement('div');\n",
              "        docLink.innerHTML = docLinkHtml;\n",
              "        element.appendChild(docLink);\n",
              "      }\n",
              "    </script>\n",
              "  </div>\n",
              "\n",
              "\n",
              "    <div id=\"df-5b7c1b5b-3652-4df2-b476-680e50a90f81\">\n",
              "      <button class=\"colab-df-quickchart\" onclick=\"quickchart('df-5b7c1b5b-3652-4df2-b476-680e50a90f81')\"\n",
              "                title=\"Suggest charts\"\n",
              "                style=\"display:none;\">\n",
              "\n",
              "<svg xmlns=\"http://www.w3.org/2000/svg\" height=\"24px\"viewBox=\"0 0 24 24\"\n",
              "     width=\"24px\">\n",
              "    <g>\n",
              "        <path d=\"M19 3H5c-1.1 0-2 .9-2 2v14c0 1.1.9 2 2 2h14c1.1 0 2-.9 2-2V5c0-1.1-.9-2-2-2zM9 17H7v-7h2v7zm4 0h-2V7h2v10zm4 0h-2v-4h2v4z\"/>\n",
              "    </g>\n",
              "</svg>\n",
              "      </button>\n",
              "\n",
              "<style>\n",
              "  .colab-df-quickchart {\n",
              "      --bg-color: #E8F0FE;\n",
              "      --fill-color: #1967D2;\n",
              "      --hover-bg-color: #E2EBFA;\n",
              "      --hover-fill-color: #174EA6;\n",
              "      --disabled-fill-color: #AAA;\n",
              "      --disabled-bg-color: #DDD;\n",
              "  }\n",
              "\n",
              "  [theme=dark] .colab-df-quickchart {\n",
              "      --bg-color: #3B4455;\n",
              "      --fill-color: #D2E3FC;\n",
              "      --hover-bg-color: #434B5C;\n",
              "      --hover-fill-color: #FFFFFF;\n",
              "      --disabled-bg-color: #3B4455;\n",
              "      --disabled-fill-color: #666;\n",
              "  }\n",
              "\n",
              "  .colab-df-quickchart {\n",
              "    background-color: var(--bg-color);\n",
              "    border: none;\n",
              "    border-radius: 50%;\n",
              "    cursor: pointer;\n",
              "    display: none;\n",
              "    fill: var(--fill-color);\n",
              "    height: 32px;\n",
              "    padding: 0;\n",
              "    width: 32px;\n",
              "  }\n",
              "\n",
              "  .colab-df-quickchart:hover {\n",
              "    background-color: var(--hover-bg-color);\n",
              "    box-shadow: 0 1px 2px rgba(60, 64, 67, 0.3), 0 1px 3px 1px rgba(60, 64, 67, 0.15);\n",
              "    fill: var(--button-hover-fill-color);\n",
              "  }\n",
              "\n",
              "  .colab-df-quickchart-complete:disabled,\n",
              "  .colab-df-quickchart-complete:disabled:hover {\n",
              "    background-color: var(--disabled-bg-color);\n",
              "    fill: var(--disabled-fill-color);\n",
              "    box-shadow: none;\n",
              "  }\n",
              "\n",
              "  .colab-df-spinner {\n",
              "    border: 2px solid var(--fill-color);\n",
              "    border-color: transparent;\n",
              "    border-bottom-color: var(--fill-color);\n",
              "    animation:\n",
              "      spin 1s steps(1) infinite;\n",
              "  }\n",
              "\n",
              "  @keyframes spin {\n",
              "    0% {\n",
              "      border-color: transparent;\n",
              "      border-bottom-color: var(--fill-color);\n",
              "      border-left-color: var(--fill-color);\n",
              "    }\n",
              "    20% {\n",
              "      border-color: transparent;\n",
              "      border-left-color: var(--fill-color);\n",
              "      border-top-color: var(--fill-color);\n",
              "    }\n",
              "    30% {\n",
              "      border-color: transparent;\n",
              "      border-left-color: var(--fill-color);\n",
              "      border-top-color: var(--fill-color);\n",
              "      border-right-color: var(--fill-color);\n",
              "    }\n",
              "    40% {\n",
              "      border-color: transparent;\n",
              "      border-right-color: var(--fill-color);\n",
              "      border-top-color: var(--fill-color);\n",
              "    }\n",
              "    60% {\n",
              "      border-color: transparent;\n",
              "      border-right-color: var(--fill-color);\n",
              "    }\n",
              "    80% {\n",
              "      border-color: transparent;\n",
              "      border-right-color: var(--fill-color);\n",
              "      border-bottom-color: var(--fill-color);\n",
              "    }\n",
              "    90% {\n",
              "      border-color: transparent;\n",
              "      border-bottom-color: var(--fill-color);\n",
              "    }\n",
              "  }\n",
              "</style>\n",
              "\n",
              "      <script>\n",
              "        async function quickchart(key) {\n",
              "          const quickchartButtonEl =\n",
              "            document.querySelector('#' + key + ' button');\n",
              "          quickchartButtonEl.disabled = true;  // To prevent multiple clicks.\n",
              "          quickchartButtonEl.classList.add('colab-df-spinner');\n",
              "          try {\n",
              "            const charts = await google.colab.kernel.invokeFunction(\n",
              "                'suggestCharts', [key], {});\n",
              "          } catch (error) {\n",
              "            console.error('Error during call to suggestCharts:', error);\n",
              "          }\n",
              "          quickchartButtonEl.classList.remove('colab-df-spinner');\n",
              "          quickchartButtonEl.classList.add('colab-df-quickchart-complete');\n",
              "        }\n",
              "        (() => {\n",
              "          let quickchartButtonEl =\n",
              "            document.querySelector('#df-5b7c1b5b-3652-4df2-b476-680e50a90f81 button');\n",
              "          quickchartButtonEl.style.display =\n",
              "            google.colab.kernel.accessAllowed ? 'block' : 'none';\n",
              "        })();\n",
              "      </script>\n",
              "    </div>\n",
              "\n",
              "    </div>\n",
              "  </div>\n"
            ],
            "application/vnd.google.colaboratory.intrinsic+json": {
              "type": "dataframe",
              "variable_name": "X"
            }
          },
          "metadata": {},
          "execution_count": 21
        }
      ]
    },
    {
      "cell_type": "code",
      "source": [
        "y.head()"
      ],
      "metadata": {
        "colab": {
          "base_uri": "https://localhost:8080/",
          "height": 241
        },
        "id": "k-o-_DUHWHdx",
        "outputId": "13f8156f-f11c-4c77-e192-c6a26b863f7e"
      },
      "execution_count": null,
      "outputs": [
        {
          "output_type": "execute_result",
          "data": {
            "text/plain": [
              "0    0\n",
              "1    0\n",
              "2    0\n",
              "3    0\n",
              "4    0\n",
              "Name: Diagnosis, dtype: int64"
            ],
            "text/html": [
              "<div>\n",
              "<style scoped>\n",
              "    .dataframe tbody tr th:only-of-type {\n",
              "        vertical-align: middle;\n",
              "    }\n",
              "\n",
              "    .dataframe tbody tr th {\n",
              "        vertical-align: top;\n",
              "    }\n",
              "\n",
              "    .dataframe thead th {\n",
              "        text-align: right;\n",
              "    }\n",
              "</style>\n",
              "<table border=\"1\" class=\"dataframe\">\n",
              "  <thead>\n",
              "    <tr style=\"text-align: right;\">\n",
              "      <th></th>\n",
              "      <th>Diagnosis</th>\n",
              "    </tr>\n",
              "  </thead>\n",
              "  <tbody>\n",
              "    <tr>\n",
              "      <th>0</th>\n",
              "      <td>0</td>\n",
              "    </tr>\n",
              "    <tr>\n",
              "      <th>1</th>\n",
              "      <td>0</td>\n",
              "    </tr>\n",
              "    <tr>\n",
              "      <th>2</th>\n",
              "      <td>0</td>\n",
              "    </tr>\n",
              "    <tr>\n",
              "      <th>3</th>\n",
              "      <td>0</td>\n",
              "    </tr>\n",
              "    <tr>\n",
              "      <th>4</th>\n",
              "      <td>0</td>\n",
              "    </tr>\n",
              "  </tbody>\n",
              "</table>\n",
              "</div><br><label><b>dtype:</b> int64</label>"
            ]
          },
          "metadata": {},
          "execution_count": 22
        }
      ]
    },
    {
      "cell_type": "code",
      "source": [
        "from sklearn.preprocessing import StandardScaler\n",
        "scaler = StandardScaler()\n",
        "X = scaler.fit_transform(X)"
      ],
      "metadata": {
        "id": "2uv26hJ3cmEU"
      },
      "execution_count": null,
      "outputs": []
    },
    {
      "cell_type": "code",
      "source": [
        "from sklearn.model_selection import train_test_split\n",
        "X_train, X_test, y_train, y_test = train_test_split(X, y, test_size=0.2, random_state=50)"
      ],
      "metadata": {
        "id": "V-4pQvgGZLyU"
      },
      "execution_count": null,
      "outputs": []
    },
    {
      "cell_type": "code",
      "source": [
        "from sklearn.ensemble import RandomForestClassifier\n",
        "\n",
        "model = RandomForestClassifier(n_estimators=50, random_state=42)\n",
        "model.fit(X_train, y_train)\n",
        "y_pred = model.predict(X_test)"
      ],
      "metadata": {
        "id": "wbkixP-sXUm2"
      },
      "execution_count": null,
      "outputs": []
    },
    {
      "cell_type": "code",
      "source": [
        "print(pd.DataFrame({'Actual': y_test, 'Predicted': y_pred}))"
      ],
      "metadata": {
        "colab": {
          "base_uri": "https://localhost:8080/"
        },
        "id": "sNLUq3CQZmXO",
        "outputId": "2ba01c04-f3fb-48a7-bbb0-2f78c275d4b9"
      },
      "execution_count": null,
      "outputs": [
        {
          "output_type": "stream",
          "name": "stdout",
          "text": [
            "      Actual  Predicted\n",
            "1528       0          0\n",
            "1373       0          0\n",
            "285        0          0\n",
            "1184       0          0\n",
            "1339       0          0\n",
            "...      ...        ...\n",
            "1359       0          0\n",
            "485        0          0\n",
            "1251       0          0\n",
            "1311       0          0\n",
            "532        0          0\n",
            "\n",
            "[479 rows x 2 columns]\n"
          ]
        }
      ]
    },
    {
      "cell_type": "code",
      "source": [
        "from sklearn.metrics import accuracy_score\n",
        "accuracy = accuracy_score(y_test, y_pred)\n",
        "print(\"Accuracy:\", accuracy)"
      ],
      "metadata": {
        "colab": {
          "base_uri": "https://localhost:8080/"
        },
        "id": "MLbcq75oZqHm",
        "outputId": "6d6dc225-7962-4a95-ba11-4bd9ae2ec9aa"
      },
      "execution_count": null,
      "outputs": [
        {
          "output_type": "stream",
          "name": "stdout",
          "text": [
            "Accuracy: 0.9603340292275574\n"
          ]
        }
      ]
    }
  ]
}