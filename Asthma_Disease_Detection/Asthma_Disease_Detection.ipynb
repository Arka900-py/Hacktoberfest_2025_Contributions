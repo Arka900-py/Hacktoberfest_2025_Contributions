{
  "nbformat": 4,
  "nbformat_minor": 0,
  "metadata": {
    "colab": {
      "provenance": []
    },
    "kernelspec": {
      "name": "python3",
      "display_name": "Python 3"
    },
    "language_info": {
      "name": "python"
    }
  },
  "cells": [
    {
      "cell_type": "code",
      "execution_count": 1,
      "metadata": {
        "id": "AZkhzi6Qz8x6"
      },
      "outputs": [],
      "source": [
        "import numpy as np\n",
        "import pandas as pd\n",
        "import matplotlib.pyplot as plt\n",
        "import seaborn as sns"
      ]
    },
    {
      "cell_type": "code",
      "source": [
        "data = pd.read_csv('asthma_disease_data.csv')"
      ],
      "metadata": {
        "id": "PSnr-7qC0GCJ"
      },
      "execution_count": 5,
      "outputs": []
    },
    {
      "cell_type": "code",
      "source": [
        "print(\"First 5 rows of data:\")\n",
        "print(data.head())"
      ],
      "metadata": {
        "colab": {
          "base_uri": "https://localhost:8080/"
        },
        "id": "xD1uq2Py0qjL",
        "outputId": "3f34eade-8752-4fc9-a464-aaacaa8fb2db"
      },
      "execution_count": 6,
      "outputs": [
        {
          "output_type": "stream",
          "name": "stdout",
          "text": [
            "First 5 rows of data:\n",
            "   PatientID  Age  Gender  Ethnicity  EducationLevel        BMI  Smoking  \\\n",
            "0       5034   63       0          1               0  15.848744        0   \n",
            "1       5035   26       1          2               2  22.757042        0   \n",
            "2       5036   57       0          2               1  18.395396        0   \n",
            "3       5037   40       1          2               1  38.515278        0   \n",
            "4       5038   61       0          0               3  19.283802        0   \n",
            "\n",
            "   PhysicalActivity  DietQuality  SleepQuality  ...  LungFunctionFEV1  \\\n",
            "0          0.894448     5.488696      8.701003  ...          1.369051   \n",
            "1          5.897329     6.341014      5.153966  ...          2.197767   \n",
            "2          6.739367     9.196237      6.840647  ...          1.698011   \n",
            "3          1.404503     5.826532      4.253036  ...          3.032037   \n",
            "4          4.604493     3.127048      9.625799  ...          3.470589   \n",
            "\n",
            "   LungFunctionFVC  Wheezing  ShortnessOfBreath  ChestTightness  Coughing  \\\n",
            "0         4.941206         0                  0               1         0   \n",
            "1         1.702393         1                  0               0         1   \n",
            "2         5.022553         1                  1               1         0   \n",
            "3         2.300159         1                  0               1         1   \n",
            "4         3.067944         1                  1               1         0   \n",
            "\n",
            "   NighttimeSymptoms  ExerciseInduced  Diagnosis  DoctorInCharge  \n",
            "0                  0                1          0       Dr_Confid  \n",
            "1                  1                1          0       Dr_Confid  \n",
            "2                  1                1          0       Dr_Confid  \n",
            "3                  1                0          0       Dr_Confid  \n",
            "4                  0                1          0       Dr_Confid  \n",
            "\n",
            "[5 rows x 29 columns]\n"
          ]
        }
      ]
    },
    {
      "cell_type": "code",
      "source": [
        "print(\"Last 5 rows of data:\")\n",
        "print(data.tail())"
      ],
      "metadata": {
        "colab": {
          "base_uri": "https://localhost:8080/"
        },
        "id": "yB1BtAFt0ddo",
        "outputId": "bf7929bf-f9c3-4b3f-a62c-37fcaec159d9"
      },
      "execution_count": 7,
      "outputs": [
        {
          "output_type": "stream",
          "name": "stdout",
          "text": [
            "Last 5 rows of data:\n",
            "      PatientID  Age  Gender  Ethnicity  EducationLevel        BMI  Smoking  \\\n",
            "2387       7421   43       1          0               2  29.059613        0   \n",
            "2388       7422   18       1          0               1  20.740850        0   \n",
            "2389       7423   54       0          3               2  37.079560        0   \n",
            "2390       7424   46       1          0               2  23.444712        0   \n",
            "2391       7425   26       1          0               0  28.123021        1   \n",
            "\n",
            "      PhysicalActivity  DietQuality  SleepQuality  ...  LungFunctionFEV1  \\\n",
            "2387          3.019854     6.119637      8.300960  ...          3.125249   \n",
            "2388          5.805180     4.386992      7.731192  ...          1.132977   \n",
            "2389          4.735169     8.214064      7.483521  ...          1.685962   \n",
            "2390          9.672637     7.362861      6.717272  ...          3.481549   \n",
            "2391          1.613138     7.412878      8.512253  ...          2.280613   \n",
            "\n",
            "      LungFunctionFVC  Wheezing  ShortnessOfBreath  ChestTightness  Coughing  \\\n",
            "2387         5.166032         0                  1               0         0   \n",
            "2388         5.509502         0                  0               0         1   \n",
            "2389         3.346877         1                  0               1         1   \n",
            "2390         1.713274         0                  1               1         0   \n",
            "2391         2.453284         1                  1               0         0   \n",
            "\n",
            "      NighttimeSymptoms  ExerciseInduced  Diagnosis  DoctorInCharge  \n",
            "2387                  0                1          1       Dr_Confid  \n",
            "2388                  1                0          1       Dr_Confid  \n",
            "2389                  0                1          1       Dr_Confid  \n",
            "2390                  1                1          0       Dr_Confid  \n",
            "2391                  1                0          0       Dr_Confid  \n",
            "\n",
            "[5 rows x 29 columns]\n"
          ]
        }
      ]
    },
    {
      "cell_type": "code",
      "source": [
        "print(\"Columns:\")\n",
        "print(data.columns)"
      ],
      "metadata": {
        "colab": {
          "base_uri": "https://localhost:8080/"
        },
        "id": "PuFJl3Om1Cp0",
        "outputId": "45a5f744-1c7d-4f87-c953-f4ec6efbb6c4"
      },
      "execution_count": 10,
      "outputs": [
        {
          "output_type": "stream",
          "name": "stdout",
          "text": [
            "Columns:\n",
            "Index(['PatientID', 'Age', 'Gender', 'Ethnicity', 'EducationLevel', 'BMI',\n",
            "       'Smoking', 'PhysicalActivity', 'DietQuality', 'SleepQuality',\n",
            "       'PollutionExposure', 'PollenExposure', 'DustExposure', 'PetAllergy',\n",
            "       'FamilyHistoryAsthma', 'HistoryOfAllergies', 'Eczema', 'HayFever',\n",
            "       'GastroesophagealReflux', 'LungFunctionFEV1', 'LungFunctionFVC',\n",
            "       'Wheezing', 'ShortnessOfBreath', 'ChestTightness', 'Coughing',\n",
            "       'NighttimeSymptoms', 'ExerciseInduced', 'Diagnosis', 'DoctorInCharge'],\n",
            "      dtype='object')\n"
          ]
        }
      ]
    },
    {
      "cell_type": "code",
      "source": [
        "print(\"Data type of each column:\")\n",
        "print(data.dtypes)"
      ],
      "metadata": {
        "colab": {
          "base_uri": "https://localhost:8080/"
        },
        "id": "-Ng43okq0hsN",
        "outputId": "742c96ba-4b38-4316-ba4d-2cf4487587d1"
      },
      "execution_count": 9,
      "outputs": [
        {
          "output_type": "stream",
          "name": "stdout",
          "text": [
            "Data type of each column:\n",
            "PatientID                   int64\n",
            "Age                         int64\n",
            "Gender                      int64\n",
            "Ethnicity                   int64\n",
            "EducationLevel              int64\n",
            "BMI                       float64\n",
            "Smoking                     int64\n",
            "PhysicalActivity          float64\n",
            "DietQuality               float64\n",
            "SleepQuality              float64\n",
            "PollutionExposure         float64\n",
            "PollenExposure            float64\n",
            "DustExposure              float64\n",
            "PetAllergy                  int64\n",
            "FamilyHistoryAsthma         int64\n",
            "HistoryOfAllergies          int64\n",
            "Eczema                      int64\n",
            "HayFever                    int64\n",
            "GastroesophagealReflux      int64\n",
            "LungFunctionFEV1          float64\n",
            "LungFunctionFVC           float64\n",
            "Wheezing                    int64\n",
            "ShortnessOfBreath           int64\n",
            "ChestTightness              int64\n",
            "Coughing                    int64\n",
            "NighttimeSymptoms           int64\n",
            "ExerciseInduced             int64\n",
            "Diagnosis                   int64\n",
            "DoctorInCharge             object\n",
            "dtype: object\n"
          ]
        }
      ]
    },
    {
      "cell_type": "code",
      "source": [
        "X = data.drop(columns = ['Diagnosis', 'DoctorInCharge'])\n",
        "y = data['Diagnosis']"
      ],
      "metadata": {
        "id": "nCphIOZD0nkw"
      },
      "execution_count": 16,
      "outputs": []
    }
  ]
}