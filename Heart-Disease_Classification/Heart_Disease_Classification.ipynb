{
 "cells": [
  {
   "cell_type": "markdown",
   "metadata": {},
   "source": [
    "# Install required packages (run this first in Kaggle)"
   ]
  },
  {
   "cell_type": "code",
   "execution_count": null,
   "metadata": {
    "execution": {
     "iopub.execute_input": "2025-10-04T15:51:31.012312Z",
     "iopub.status.busy": "2025-10-04T15:51:31.012043Z",
     "iopub.status.idle": "2025-10-04T15:51:38.450590Z",
     "shell.execute_reply": "2025-10-04T15:51:38.449734Z",
     "shell.execute_reply.started": "2025-10-04T15:51:31.012291Z"
    },
    "trusted": true
   },
   "outputs": [],
   "source": [
    "\n",
    "!pip install xgboost --quiet\n",
    "\n",
    "# Import all libraries\n",
    "import pandas as pd\n",
    "import numpy as np\n",
    "import matplotlib.pyplot as plt\n",
    "import seaborn as sns\n",
    "from sklearn.model_selection import train_test_split, cross_val_score, GridSearchCV\n",
    "from sklearn.preprocessing import StandardScaler\n",
    "from sklearn.ensemble import RandomForestClassifier, GradientBoostingClassifier\n",
    "from sklearn.linear_model import LogisticRegression\n",
    "from sklearn.svm import SVC\n",
    "from sklearn.neighbors import KNeighborsClassifier\n",
    "from xgboost import XGBClassifier\n",
    "from sklearn.metrics import accuracy_score, classification_report, confusion_matrix, roc_auc_score, roc_curve\n",
    "import warnings\n",
    "warnings.filterwarnings('ignore')"
   ]
  },
  {
   "cell_type": "markdown",
   "metadata": {},
   "source": [
    "# Set style for better plots"
   ]
  },
  {
   "cell_type": "code",
   "execution_count": null,
   "metadata": {
    "execution": {
     "iopub.execute_input": "2025-10-04T15:51:44.831210Z",
     "iopub.status.busy": "2025-10-04T15:51:44.830922Z",
     "iopub.status.idle": "2025-10-04T15:51:44.838535Z",
     "shell.execute_reply": "2025-10-04T15:51:44.837571Z",
     "shell.execute_reply.started": "2025-10-04T15:51:44.831180Z"
    },
    "trusted": true
   },
   "outputs": [
    {
     "name": "stdout",
     "output_type": "stream",
     "text": [
      "✅ All libraries imported successfully!\n"
     ]
    }
   ],
   "source": [
    "\n",
    "plt.style.use('default')\n",
    "sns.set_palette(\"husl\")\n",
    "\n",
    "print(\"✅ All libraries imported successfully!\")"
   ]
  },
  {
   "cell_type": "markdown",
   "metadata": {},
   "source": [
    "# Load the dataset"
   ]
  },
  {
   "cell_type": "code",
   "execution_count": null,
   "metadata": {
    "execution": {
     "iopub.execute_input": "2025-10-04T15:52:26.020721Z",
     "iopub.status.busy": "2025-10-04T15:52:26.020324Z",
     "iopub.status.idle": "2025-10-04T15:52:26.037639Z",
     "shell.execute_reply": "2025-10-04T15:52:26.036734Z",
     "shell.execute_reply.started": "2025-10-04T15:52:26.020690Z"
    },
    "trusted": true
   },
   "outputs": [],
   "source": [
    "\n",
    "df = pd.read_csv('/kaggle/input/heart-disease/heart.csv')  # Common path in Kaggle\n",
    "# If the above doesn't work, try:\n",
    "# df = pd.read_csv('../input/heart.csv')"
   ]
  },
  {
   "cell_type": "code",
   "execution_count": 7,
   "metadata": {
    "execution": {
     "iopub.execute_input": "2025-10-04T15:55:42.612377Z",
     "iopub.status.busy": "2025-10-04T15:55:42.611509Z",
     "iopub.status.idle": "2025-10-04T15:55:42.625072Z",
     "shell.execute_reply": "2025-10-04T15:55:42.624211Z",
     "shell.execute_reply.started": "2025-10-04T15:55:42.612344Z"
    },
    "trusted": true
   },
   "outputs": [
    {
     "name": "stdout",
     "output_type": "stream",
     "text": [
      "📊 Dataset loaded successfully!\n",
      "Dataset shape: (303, 14)\n",
      "\n",
      "First 5 rows:\n"
     ]
    },
    {
     "data": {
      "text/html": [
       "<div>\n",
       "<style scoped>\n",
       "    .dataframe tbody tr th:only-of-type {\n",
       "        vertical-align: middle;\n",
       "    }\n",
       "\n",
       "    .dataframe tbody tr th {\n",
       "        vertical-align: top;\n",
       "    }\n",
       "\n",
       "    .dataframe thead th {\n",
       "        text-align: right;\n",
       "    }\n",
       "</style>\n",
       "<table border=\"1\" class=\"dataframe\">\n",
       "  <thead>\n",
       "    <tr style=\"text-align: right;\">\n",
       "      <th></th>\n",
       "      <th>age</th>\n",
       "      <th>sex</th>\n",
       "      <th>cp</th>\n",
       "      <th>trestbps</th>\n",
       "      <th>chol</th>\n",
       "      <th>fbs</th>\n",
       "      <th>restecg</th>\n",
       "      <th>thalach</th>\n",
       "      <th>exang</th>\n",
       "      <th>oldpeak</th>\n",
       "      <th>slope</th>\n",
       "      <th>ca</th>\n",
       "      <th>thal</th>\n",
       "      <th>target</th>\n",
       "    </tr>\n",
       "  </thead>\n",
       "  <tbody>\n",
       "    <tr>\n",
       "      <th>0</th>\n",
       "      <td>63</td>\n",
       "      <td>1</td>\n",
       "      <td>3</td>\n",
       "      <td>145</td>\n",
       "      <td>233</td>\n",
       "      <td>1</td>\n",
       "      <td>0</td>\n",
       "      <td>150</td>\n",
       "      <td>0</td>\n",
       "      <td>2.3</td>\n",
       "      <td>0</td>\n",
       "      <td>0</td>\n",
       "      <td>1</td>\n",
       "      <td>1</td>\n",
       "    </tr>\n",
       "    <tr>\n",
       "      <th>1</th>\n",
       "      <td>37</td>\n",
       "      <td>1</td>\n",
       "      <td>2</td>\n",
       "      <td>130</td>\n",
       "      <td>250</td>\n",
       "      <td>0</td>\n",
       "      <td>1</td>\n",
       "      <td>187</td>\n",
       "      <td>0</td>\n",
       "      <td>3.5</td>\n",
       "      <td>0</td>\n",
       "      <td>0</td>\n",
       "      <td>2</td>\n",
       "      <td>1</td>\n",
       "    </tr>\n",
       "    <tr>\n",
       "      <th>2</th>\n",
       "      <td>41</td>\n",
       "      <td>0</td>\n",
       "      <td>1</td>\n",
       "      <td>130</td>\n",
       "      <td>204</td>\n",
       "      <td>0</td>\n",
       "      <td>0</td>\n",
       "      <td>172</td>\n",
       "      <td>0</td>\n",
       "      <td>1.4</td>\n",
       "      <td>2</td>\n",
       "      <td>0</td>\n",
       "      <td>2</td>\n",
       "      <td>1</td>\n",
       "    </tr>\n",
       "    <tr>\n",
       "      <th>3</th>\n",
       "      <td>56</td>\n",
       "      <td>1</td>\n",
       "      <td>1</td>\n",
       "      <td>120</td>\n",
       "      <td>236</td>\n",
       "      <td>0</td>\n",
       "      <td>1</td>\n",
       "      <td>178</td>\n",
       "      <td>0</td>\n",
       "      <td>0.8</td>\n",
       "      <td>2</td>\n",
       "      <td>0</td>\n",
       "      <td>2</td>\n",
       "      <td>1</td>\n",
       "    </tr>\n",
       "    <tr>\n",
       "      <th>4</th>\n",
       "      <td>57</td>\n",
       "      <td>0</td>\n",
       "      <td>0</td>\n",
       "      <td>120</td>\n",
       "      <td>354</td>\n",
       "      <td>0</td>\n",
       "      <td>1</td>\n",
       "      <td>163</td>\n",
       "      <td>1</td>\n",
       "      <td>0.6</td>\n",
       "      <td>2</td>\n",
       "      <td>0</td>\n",
       "      <td>2</td>\n",
       "      <td>1</td>\n",
       "    </tr>\n",
       "  </tbody>\n",
       "</table>\n",
       "</div>"
      ],
      "text/plain": [
       "   age  sex  cp  trestbps  chol  fbs  restecg  thalach  exang  oldpeak  slope  \\\n",
       "0   63    1   3       145   233    1        0      150      0      2.3      0   \n",
       "1   37    1   2       130   250    0        1      187      0      3.5      0   \n",
       "2   41    0   1       130   204    0        0      172      0      1.4      2   \n",
       "3   56    1   1       120   236    0        1      178      0      0.8      2   \n",
       "4   57    0   0       120   354    0        1      163      1      0.6      2   \n",
       "\n",
       "   ca  thal  target  \n",
       "0   0     1       1  \n",
       "1   0     2       1  \n",
       "2   0     2       1  \n",
       "3   0     2       1  \n",
       "4   0     2       1  "
      ]
     },
     "metadata": {},
     "output_type": "display_data"
    }
   ],
   "source": [
    "print(\"📊 Dataset loaded successfully!\")\n",
    "print(f\"Dataset shape: {df.shape}\")\n",
    "print(\"\\nFirst 5 rows:\")\n",
    "display(df.head())"
   ]
  },
  {
   "cell_type": "code",
   "execution_count": 8,
   "metadata": {
    "execution": {
     "iopub.execute_input": "2025-10-04T15:55:45.491917Z",
     "iopub.status.busy": "2025-10-04T15:55:45.491563Z",
     "iopub.status.idle": "2025-10-04T15:55:45.538494Z",
     "shell.execute_reply": "2025-10-04T15:55:45.537545Z",
     "shell.execute_reply.started": "2025-10-04T15:55:45.491893Z"
    },
    "trusted": true
   },
   "outputs": [
    {
     "name": "stdout",
     "output_type": "stream",
     "text": [
      "\n",
      "🔍 Dataset Info:\n",
      "<class 'pandas.core.frame.DataFrame'>\n",
      "RangeIndex: 303 entries, 0 to 302\n",
      "Data columns (total 14 columns):\n",
      " #   Column    Non-Null Count  Dtype  \n",
      "---  ------    --------------  -----  \n",
      " 0   age       303 non-null    int64  \n",
      " 1   sex       303 non-null    int64  \n",
      " 2   cp        303 non-null    int64  \n",
      " 3   trestbps  303 non-null    int64  \n",
      " 4   chol      303 non-null    int64  \n",
      " 5   fbs       303 non-null    int64  \n",
      " 6   restecg   303 non-null    int64  \n",
      " 7   thalach   303 non-null    int64  \n",
      " 8   exang     303 non-null    int64  \n",
      " 9   oldpeak   303 non-null    float64\n",
      " 10  slope     303 non-null    int64  \n",
      " 11  ca        303 non-null    int64  \n",
      " 12  thal      303 non-null    int64  \n",
      " 13  target    303 non-null    int64  \n",
      "dtypes: float64(1), int64(13)\n",
      "memory usage: 33.3 KB\n",
      "None\n",
      "\n",
      "🎯 Target Distribution:\n",
      "target\n",
      "1    165\n",
      "0    138\n",
      "Name: count, dtype: int64\n",
      "\n",
      "📈 Basic Statistics:\n"
     ]
    },
    {
     "data": {
      "text/html": [
       "<div>\n",
       "<style scoped>\n",
       "    .dataframe tbody tr th:only-of-type {\n",
       "        vertical-align: middle;\n",
       "    }\n",
       "\n",
       "    .dataframe tbody tr th {\n",
       "        vertical-align: top;\n",
       "    }\n",
       "\n",
       "    .dataframe thead th {\n",
       "        text-align: right;\n",
       "    }\n",
       "</style>\n",
       "<table border=\"1\" class=\"dataframe\">\n",
       "  <thead>\n",
       "    <tr style=\"text-align: right;\">\n",
       "      <th></th>\n",
       "      <th>age</th>\n",
       "      <th>sex</th>\n",
       "      <th>cp</th>\n",
       "      <th>trestbps</th>\n",
       "      <th>chol</th>\n",
       "      <th>fbs</th>\n",
       "      <th>restecg</th>\n",
       "      <th>thalach</th>\n",
       "      <th>exang</th>\n",
       "      <th>oldpeak</th>\n",
       "      <th>slope</th>\n",
       "      <th>ca</th>\n",
       "      <th>thal</th>\n",
       "      <th>target</th>\n",
       "    </tr>\n",
       "  </thead>\n",
       "  <tbody>\n",
       "    <tr>\n",
       "      <th>count</th>\n",
       "      <td>303.000000</td>\n",
       "      <td>303.000000</td>\n",
       "      <td>303.000000</td>\n",
       "      <td>303.000000</td>\n",
       "      <td>303.000000</td>\n",
       "      <td>303.000000</td>\n",
       "      <td>303.000000</td>\n",
       "      <td>303.000000</td>\n",
       "      <td>303.000000</td>\n",
       "      <td>303.000000</td>\n",
       "      <td>303.000000</td>\n",
       "      <td>303.000000</td>\n",
       "      <td>303.000000</td>\n",
       "      <td>303.000000</td>\n",
       "    </tr>\n",
       "    <tr>\n",
       "      <th>mean</th>\n",
       "      <td>54.366337</td>\n",
       "      <td>0.683168</td>\n",
       "      <td>0.966997</td>\n",
       "      <td>131.623762</td>\n",
       "      <td>246.264026</td>\n",
       "      <td>0.148515</td>\n",
       "      <td>0.528053</td>\n",
       "      <td>149.646865</td>\n",
       "      <td>0.326733</td>\n",
       "      <td>1.039604</td>\n",
       "      <td>1.399340</td>\n",
       "      <td>0.729373</td>\n",
       "      <td>2.313531</td>\n",
       "      <td>0.544554</td>\n",
       "    </tr>\n",
       "    <tr>\n",
       "      <th>std</th>\n",
       "      <td>9.082101</td>\n",
       "      <td>0.466011</td>\n",
       "      <td>1.032052</td>\n",
       "      <td>17.538143</td>\n",
       "      <td>51.830751</td>\n",
       "      <td>0.356198</td>\n",
       "      <td>0.525860</td>\n",
       "      <td>22.905161</td>\n",
       "      <td>0.469794</td>\n",
       "      <td>1.161075</td>\n",
       "      <td>0.616226</td>\n",
       "      <td>1.022606</td>\n",
       "      <td>0.612277</td>\n",
       "      <td>0.498835</td>\n",
       "    </tr>\n",
       "    <tr>\n",
       "      <th>min</th>\n",
       "      <td>29.000000</td>\n",
       "      <td>0.000000</td>\n",
       "      <td>0.000000</td>\n",
       "      <td>94.000000</td>\n",
       "      <td>126.000000</td>\n",
       "      <td>0.000000</td>\n",
       "      <td>0.000000</td>\n",
       "      <td>71.000000</td>\n",
       "      <td>0.000000</td>\n",
       "      <td>0.000000</td>\n",
       "      <td>0.000000</td>\n",
       "      <td>0.000000</td>\n",
       "      <td>0.000000</td>\n",
       "      <td>0.000000</td>\n",
       "    </tr>\n",
       "    <tr>\n",
       "      <th>25%</th>\n",
       "      <td>47.500000</td>\n",
       "      <td>0.000000</td>\n",
       "      <td>0.000000</td>\n",
       "      <td>120.000000</td>\n",
       "      <td>211.000000</td>\n",
       "      <td>0.000000</td>\n",
       "      <td>0.000000</td>\n",
       "      <td>133.500000</td>\n",
       "      <td>0.000000</td>\n",
       "      <td>0.000000</td>\n",
       "      <td>1.000000</td>\n",
       "      <td>0.000000</td>\n",
       "      <td>2.000000</td>\n",
       "      <td>0.000000</td>\n",
       "    </tr>\n",
       "    <tr>\n",
       "      <th>50%</th>\n",
       "      <td>55.000000</td>\n",
       "      <td>1.000000</td>\n",
       "      <td>1.000000</td>\n",
       "      <td>130.000000</td>\n",
       "      <td>240.000000</td>\n",
       "      <td>0.000000</td>\n",
       "      <td>1.000000</td>\n",
       "      <td>153.000000</td>\n",
       "      <td>0.000000</td>\n",
       "      <td>0.800000</td>\n",
       "      <td>1.000000</td>\n",
       "      <td>0.000000</td>\n",
       "      <td>2.000000</td>\n",
       "      <td>1.000000</td>\n",
       "    </tr>\n",
       "    <tr>\n",
       "      <th>75%</th>\n",
       "      <td>61.000000</td>\n",
       "      <td>1.000000</td>\n",
       "      <td>2.000000</td>\n",
       "      <td>140.000000</td>\n",
       "      <td>274.500000</td>\n",
       "      <td>0.000000</td>\n",
       "      <td>1.000000</td>\n",
       "      <td>166.000000</td>\n",
       "      <td>1.000000</td>\n",
       "      <td>1.600000</td>\n",
       "      <td>2.000000</td>\n",
       "      <td>1.000000</td>\n",
       "      <td>3.000000</td>\n",
       "      <td>1.000000</td>\n",
       "    </tr>\n",
       "    <tr>\n",
       "      <th>max</th>\n",
       "      <td>77.000000</td>\n",
       "      <td>1.000000</td>\n",
       "      <td>3.000000</td>\n",
       "      <td>200.000000</td>\n",
       "      <td>564.000000</td>\n",
       "      <td>1.000000</td>\n",
       "      <td>2.000000</td>\n",
       "      <td>202.000000</td>\n",
       "      <td>1.000000</td>\n",
       "      <td>6.200000</td>\n",
       "      <td>2.000000</td>\n",
       "      <td>4.000000</td>\n",
       "      <td>3.000000</td>\n",
       "      <td>1.000000</td>\n",
       "    </tr>\n",
       "  </tbody>\n",
       "</table>\n",
       "</div>"
      ],
      "text/plain": [
       "              age         sex          cp    trestbps        chol         fbs  \\\n",
       "count  303.000000  303.000000  303.000000  303.000000  303.000000  303.000000   \n",
       "mean    54.366337    0.683168    0.966997  131.623762  246.264026    0.148515   \n",
       "std      9.082101    0.466011    1.032052   17.538143   51.830751    0.356198   \n",
       "min     29.000000    0.000000    0.000000   94.000000  126.000000    0.000000   \n",
       "25%     47.500000    0.000000    0.000000  120.000000  211.000000    0.000000   \n",
       "50%     55.000000    1.000000    1.000000  130.000000  240.000000    0.000000   \n",
       "75%     61.000000    1.000000    2.000000  140.000000  274.500000    0.000000   \n",
       "max     77.000000    1.000000    3.000000  200.000000  564.000000    1.000000   \n",
       "\n",
       "          restecg     thalach       exang     oldpeak       slope          ca  \\\n",
       "count  303.000000  303.000000  303.000000  303.000000  303.000000  303.000000   \n",
       "mean     0.528053  149.646865    0.326733    1.039604    1.399340    0.729373   \n",
       "std      0.525860   22.905161    0.469794    1.161075    0.616226    1.022606   \n",
       "min      0.000000   71.000000    0.000000    0.000000    0.000000    0.000000   \n",
       "25%      0.000000  133.500000    0.000000    0.000000    1.000000    0.000000   \n",
       "50%      1.000000  153.000000    0.000000    0.800000    1.000000    0.000000   \n",
       "75%      1.000000  166.000000    1.000000    1.600000    2.000000    1.000000   \n",
       "max      2.000000  202.000000    1.000000    6.200000    2.000000    4.000000   \n",
       "\n",
       "             thal      target  \n",
       "count  303.000000  303.000000  \n",
       "mean     2.313531    0.544554  \n",
       "std      0.612277    0.498835  \n",
       "min      0.000000    0.000000  \n",
       "25%      2.000000    0.000000  \n",
       "50%      2.000000    1.000000  \n",
       "75%      3.000000    1.000000  \n",
       "max      3.000000    1.000000  "
      ]
     },
     "metadata": {},
     "output_type": "display_data"
    }
   ],
   "source": [
    "print(\"\\n🔍 Dataset Info:\")\n",
    "print(df.info())\n",
    "print(\"\\n🎯 Target Distribution:\")\n",
    "print(df['target'].value_counts())\n",
    "print(\"\\n📈 Basic Statistics:\")\n",
    "display(df.describe())"
   ]
  },
  {
   "cell_type": "code",
   "execution_count": 9,
   "metadata": {
    "execution": {
     "iopub.execute_input": "2025-10-04T15:55:47.052159Z",
     "iopub.status.busy": "2025-10-04T15:55:47.051867Z",
     "iopub.status.idle": "2025-10-04T15:55:47.058003Z",
     "shell.execute_reply": "2025-10-04T15:55:47.057121Z",
     "shell.execute_reply.started": "2025-10-04T15:55:47.052136Z"
    },
    "trusted": true
   },
   "outputs": [
    {
     "name": "stdout",
     "output_type": "stream",
     "text": [
      "\n",
      "❓ Missing Values:\n",
      "age         0\n",
      "sex         0\n",
      "cp          0\n",
      "trestbps    0\n",
      "chol        0\n",
      "fbs         0\n",
      "restecg     0\n",
      "thalach     0\n",
      "exang       0\n",
      "oldpeak     0\n",
      "slope       0\n",
      "ca          0\n",
      "thal        0\n",
      "target      0\n",
      "dtype: int64\n"
     ]
    }
   ],
   "source": [
    "print(\"\\n❓ Missing Values:\")\n",
    "print(df.isnull().sum())"
   ]
  },
  {
   "cell_type": "code",
   "execution_count": 10,
   "metadata": {
    "execution": {
     "iopub.execute_input": "2025-10-04T15:55:47.262401Z",
     "iopub.status.busy": "2025-10-04T15:55:47.261677Z",
     "iopub.status.idle": "2025-10-04T15:55:47.266795Z",
     "shell.execute_reply": "2025-10-04T15:55:47.265738Z",
     "shell.execute_reply.started": "2025-10-04T15:55:47.262378Z"
    },
    "trusted": true
   },
   "outputs": [
    {
     "name": "stdout",
     "output_type": "stream",
     "text": [
      "\n",
      "📊 Creating visualizations...\n"
     ]
    }
   ],
   "source": [
    "# Data Visualization Section\n",
    "print(\"\\n📊 Creating visualizations...\")"
   ]
  },
  {
   "cell_type": "code",
   "execution_count": 11,
   "metadata": {
    "execution": {
     "iopub.execute_input": "2025-10-04T15:55:47.407527Z",
     "iopub.status.busy": "2025-10-04T15:55:47.407218Z",
     "iopub.status.idle": "2025-10-04T15:55:47.418930Z",
     "shell.execute_reply": "2025-10-04T15:55:47.418085Z",
     "shell.execute_reply.started": "2025-10-04T15:55:47.407503Z"
    },
    "trusted": true
   },
   "outputs": [
    {
     "data": {
      "text/plain": [
       "<Figure size 1500x1000 with 0 Axes>"
      ]
     },
     "execution_count": 11,
     "metadata": {},
     "output_type": "execute_result"
    },
    {
     "data": {
      "text/plain": [
       "<Figure size 1500x1000 with 0 Axes>"
      ]
     },
     "metadata": {},
     "output_type": "display_data"
    }
   ],
   "source": [
    "# 1. Target distribution\n",
    "plt.figure(figsize=(15, 10))"
   ]
  },
  {
   "cell_type": "code",
   "execution_count": 12,
   "metadata": {
    "execution": {
     "iopub.execute_input": "2025-10-04T15:55:47.721560Z",
     "iopub.status.busy": "2025-10-04T15:55:47.721224Z",
     "iopub.status.idle": "2025-10-04T15:55:47.808140Z",
     "shell.execute_reply": "2025-10-04T15:55:47.807151Z",
     "shell.execute_reply.started": "2025-10-04T15:55:47.721534Z"
    },
    "trusted": true
   },
   "outputs": [
    {
     "data": {
      "text/plain": [
       "Text(0.5, 1.0, 'Heart Disease Distribution')"
      ]
     },
     "execution_count": 12,
     "metadata": {},
     "output_type": "execute_result"
    },
    {
     "data": {
      "image/png": "[encoded data removed]",
      "text/plain": [
       "<Figure size 640x480 with 1 Axes>"
      ]
     },
     "metadata": {},
     "output_type": "display_data"
    }
   ],
   "source": [
    "plt.subplot(2, 3, 1)\n",
    "target_counts = df['target'].value_counts()\n",
    "plt.pie(target_counts, labels=['No Disease', 'Disease'], autopct='%1.1f%%', colors=['lightcoral', 'lightblue'])\n",
    "plt.title('Heart Disease Distribution')"
   ]
  },
  {
   "cell_type": "code",
   "execution_count": 13,
   "metadata": {
    "execution": {
     "iopub.execute_input": "2025-10-04T15:55:47.901752Z",
     "iopub.status.busy": "2025-10-04T15:55:47.901406Z",
     "iopub.status.idle": "2025-10-04T15:55:48.221107Z",
     "shell.execute_reply": "2025-10-04T15:55:48.220326Z",
     "shell.execute_reply.started": "2025-10-04T15:55:47.901729Z"
    },
    "trusted": true
   },
   "outputs": [
    {
     "data": {
      "text/plain": [
       "Text(0.5, 1.0, 'Age Distribution by Heart Disease')"
      ]
     },
     "execution_count": 13,
     "metadata": {},
     "output_type": "execute_result"
    },
    {
     "data": {
      "image/png": "[encoded data removed]",
      "text/plain": [
       "<Figure size 640x480 with 1 Axes>"
      ]
     },
     "metadata": {},
     "output_type": "display_data"
    }
   ],
   "source": [
    "# 2. Age distribution\n",
    "plt.subplot(2, 3, 2)\n",
    "sns.histplot(data=df, x='age', hue='target', kde=True, bins=20)\n",
    "plt.title('Age Distribution by Heart Disease')"
   ]
  },
  {
   "cell_type": "code",
   "execution_count": 14,
   "metadata": {
    "execution": {
     "iopub.execute_input": "2025-10-04T15:55:48.222968Z",
     "iopub.status.busy": "2025-10-04T15:55:48.222337Z",
     "iopub.status.idle": "2025-10-04T15:55:48.367975Z",
     "shell.execute_reply": "2025-10-04T15:55:48.367128Z",
     "shell.execute_reply.started": "2025-10-04T15:55:48.222945Z"
    },
    "trusted": true
   },
   "outputs": [
    {
     "data": {
      "text/plain": [
       "([<matplotlib.axis.XTick at 0x7f93a0ed6a10>,\n",
       "  <matplotlib.axis.XTick at 0x7f93a117ec50>],\n",
       " [Text(0, 0, 'No Disease'), Text(1, 0, 'Disease')])"
      ]
     },
     "execution_count": 14,
     "metadata": {},
     "output_type": "execute_result"
    },
    {
     "data": {
      "image/png": "[encoded data removed]",
      "text/plain": [
       "<Figure size 640x480 with 1 Axes>"
      ]
     },
     "metadata": {},
     "output_type": "display_data"
    }
   ],
   "source": [
    "# 3. Cholesterol vs Heart Disease\n",
    "plt.subplot(2, 3, 3)\n",
    "sns.boxplot(data=df, x='target', y='chol')\n",
    "plt.title('Cholesterol Level vs Heart Disease')\n",
    "plt.xticks([0, 1], ['No Disease', 'Disease'])"
   ]
  },
  {
   "cell_type": "code",
   "execution_count": 15,
   "metadata": {
    "execution": {
     "iopub.execute_input": "2025-10-04T15:55:50.671941Z",
     "iopub.status.busy": "2025-10-04T15:55:50.671241Z",
     "iopub.status.idle": "2025-10-04T15:55:50.830532Z",
     "shell.execute_reply": "2025-10-04T15:55:50.829688Z",
     "shell.execute_reply.started": "2025-10-04T15:55:50.671913Z"
    },
    "trusted": true
   },
   "outputs": [
    {
     "data": {
      "text/plain": [
       "([<matplotlib.axis.XTick at 0x7f93a3462fd0>,\n",
       "  <matplotlib.axis.XTick at 0x7f93a34c3410>],\n",
       " [Text(0, 0, 'No Disease'), Text(1, 0, 'Disease')])"
      ]
     },
     "execution_count": 15,
     "metadata": {},
     "output_type": "execute_result"
    },
    {
     "data": {
      "image/png": "[encoded data removed]",
      "text/plain": [
       "<Figure size 640x480 with 1 Axes>"
      ]
     },
     "metadata": {},
     "output_type": "display_data"
    }
   ],
   "source": [
    "# 4. Maximum Heart Rate vs Heart Disease\n",
    "plt.subplot(2, 3, 4)\n",
    "sns.boxplot(data=df, x='target', y='thalach')\n",
    "plt.title('Max Heart Rate vs Heart Disease')\n",
    "plt.xticks([0, 1], ['No Disease', 'Disease'])"
   ]
  },
  {
   "cell_type": "code",
   "execution_count": 16,
   "metadata": {
    "execution": {
     "iopub.execute_input": "2025-10-04T15:55:53.928412Z",
     "iopub.status.busy": "2025-10-04T15:55:53.927486Z",
     "iopub.status.idle": "2025-10-04T15:55:54.126735Z",
     "shell.execute_reply": "2025-10-04T15:55:54.125718Z",
     "shell.execute_reply.started": "2025-10-04T15:55:53.928383Z"
    },
    "trusted": true
   },
   "outputs": [
    {
     "data": {
      "text/plain": [
       "<matplotlib.legend.Legend at 0x7f93a09fc110>"
      ]
     },
     "execution_count": 16,
     "metadata": {},
     "output_type": "execute_result"
    },
    {
     "data": {
      "image/png": "[encoded data removed]",
      "text/plain": [
       "<Figure size 640x480 with 1 Axes>"
      ]
     },
     "metadata": {},
     "output_type": "display_data"
    }
   ],
   "source": [
    "# 5. Chest Pain Type\n",
    "plt.subplot(2, 3, 5)\n",
    "cp_data = pd.crosstab(df['cp'], df['target'])\n",
    "cp_data.plot(kind='bar', ax=plt.gca())\n",
    "plt.title('Chest Pain Type vs Heart Disease')\n",
    "plt.xlabel('Chest Pain Type (0-3)')\n",
    "plt.legend(['No Disease', 'Disease'])"
   ]
  },
  {
   "cell_type": "code",
   "execution_count": 17,
   "metadata": {
    "execution": {
     "iopub.execute_input": "2025-10-04T15:55:54.128530Z",
     "iopub.status.busy": "2025-10-04T15:55:54.128080Z",
     "iopub.status.idle": "2025-10-04T15:55:54.514189Z",
     "shell.execute_reply": "2025-10-04T15:55:54.513239Z",
     "shell.execute_reply.started": "2025-10-04T15:55:54.128505Z"
    },
    "trusted": true
   },
   "outputs": [
    {
     "data": {
      "image/png": "[encoded data removed]",
      "text/plain": [
       "<Figure size 640x480 with 2 Axes>"
      ]
     },
     "metadata": {},
     "output_type": "display_data"
    }
   ],
   "source": [
    "# 6. Correlation Heatmap\n",
    "plt.subplot(2, 3, 6)\n",
    "corr_matrix = df.corr()\n",
    "mask = np.triu(np.ones_like(corr_matrix, dtype=bool))\n",
    "sns.heatmap(corr_matrix, mask=mask, annot=True, cmap='coolwarm', center=0, fmt='.2f')\n",
    "plt.title('Feature Correlation Heatmap')\n",
    "plt.tight_layout()\n",
    "plt.show()"
   ]
  },
  {
   "cell_type": "code",
   "execution_count": 18,
   "metadata": {
    "execution": {
     "iopub.execute_input": "2025-10-04T15:55:54.515437Z",
     "iopub.status.busy": "2025-10-04T15:55:54.515126Z",
     "iopub.status.idle": "2025-10-04T15:55:54.521016Z",
     "shell.execute_reply": "2025-10-04T15:55:54.520285Z",
     "shell.execute_reply.started": "2025-10-04T15:55:54.515416Z"
    },
    "trusted": true
   },
   "outputs": [
    {
     "name": "stdout",
     "output_type": "stream",
     "text": [
      "\n",
      "⚙️ Preparing data for machine learning...\n"
     ]
    }
   ],
   "source": [
    "# Data Preparation for Machine Learning\n",
    "print(\"\\n⚙️ Preparing data for machine learning...\")\n",
    "\n",
    "X = df.drop('target', axis=1)\n",
    "y = df['target']"
   ]
  },
  {
   "cell_type": "code",
   "execution_count": 19,
   "metadata": {
    "execution": {
     "iopub.execute_input": "2025-10-04T15:55:54.522877Z",
     "iopub.status.busy": "2025-10-04T15:55:54.522554Z",
     "iopub.status.idle": "2025-10-04T15:55:54.550261Z",
     "shell.execute_reply": "2025-10-04T15:55:54.549118Z",
     "shell.execute_reply.started": "2025-10-04T15:55:54.522847Z"
    },
    "trusted": true
   },
   "outputs": [
    {
     "name": "stdout",
     "output_type": "stream",
     "text": [
      "Training set size: (242, 13)\n",
      "Test set size: (61, 13)\n",
      "Feature names: ['age', 'sex', 'cp', 'trestbps', 'chol', 'fbs', 'restecg', 'thalach', 'exang', 'oldpeak', 'slope', 'ca', 'thal']\n"
     ]
    }
   ],
   "source": [
    "# Split the data\n",
    "X_train, X_test, y_train, y_test = train_test_split(X, y, test_size=0.2, random_state=42, stratify=y)\n",
    "\n",
    "# Scale the features\n",
    "scaler = StandardScaler()\n",
    "X_train_scaled = scaler.fit_transform(X_train)\n",
    "X_test_scaled = scaler.transform(X_test)\n",
    "\n",
    "print(f\"Training set size: {X_train.shape}\")\n",
    "print(f\"Test set size: {X_test.shape}\")\n",
    "print(f\"Feature names: {list(X.columns)}\")"
   ]
  },
  {
   "cell_type": "markdown",
   "metadata": {},
   "source": [
    "# Model Training and Comparison"
   ]
  },
  {
   "cell_type": "code",
   "execution_count": null,
   "metadata": {
    "execution": {
     "iopub.execute_input": "2025-10-04T15:55:55.567490Z",
     "iopub.status.busy": "2025-10-04T15:55:55.567159Z",
     "iopub.status.idle": "2025-10-04T15:55:57.842201Z",
     "shell.execute_reply": "2025-10-04T15:55:57.841198Z",
     "shell.execute_reply.started": "2025-10-04T15:55:55.567463Z"
    },
    "trusted": true
   },
   "outputs": [
    {
     "name": "stdout",
     "output_type": "stream",
     "text": [
      "\n",
      "🤖 Training multiple machine learning models...\n",
      "Training Random Forest...\n"
     ]
    },
    {
     "data": {
      "image/png": "[encoded data removed]",
      "text/plain": [
       "<Figure size 400x300 with 2 Axes>"
      ]
     },
     "metadata": {},
     "output_type": "display_data"
    },
    {
     "name": "stdout",
     "output_type": "stream",
     "text": [
      "Training XGBoost...\n"
     ]
    },
    {
     "data": {
      "image/png": "[encoded data removed]",
      "text/plain": [
       "<Figure size 400x300 with 2 Axes>"
      ]
     },
     "metadata": {},
     "output_type": "display_data"
    },
    {
     "name": "stdout",
     "output_type": "stream",
     "text": [
      "Training Logistic Regression...\n",
      "Training SVM...\n",
      "Training K-Nearest Neighbors...\n",
      "Training Gradient Boosting...\n"
     ]
    }
   ],
   "source": [
    "\n",
    "print(\"\\n🤖 Training multiple machine learning models...\")\n",
    "\n",
    "classifiers = {\n",
    "    'Random Forest': RandomForestClassifier(random_state=42),\n",
    "    'XGBoost': XGBClassifier(random_state=42, eval_metric='logloss'),\n",
    "    'Logistic Regression': LogisticRegression(random_state=42),\n",
    "    'SVM': SVC(probability=True, random_state=42),\n",
    "    'K-Nearest Neighbors': KNeighborsClassifier(),\n",
    "    'Gradient Boosting': GradientBoostingClassifier(random_state=42)\n",
    "}\n",
    "\n",
    "results = []\n",
    "\n",
    "for name, clf in classifiers.items():\n",
    "    print(f\"Training {name}...\")\n",
    "    \n",
    "    # Scale data for algorithms that need it\n",
    "    if name in ['Logistic Regression', 'SVM', 'K-Nearest Neighbors']:\n",
    "        X_train_model = X_train_scaled\n",
    "        X_test_model = X_test_scaled\n",
    "    else:\n",
    "        X_train_model = X_train\n",
    "        X_test_model = X_test\n",
    "    \n",
    "    # Train model\n",
    "    clf.fit(X_train_model, y_train)\n",
    "    \n",
    "    # Predictions\n",
    "    y_pred = clf.predict(X_test_model)\n",
    "    y_pred_proba = clf.predict_proba(X_test_model)[:, 1]\n",
    "    \n",
    "    # Calculate metrics\n",
    "    accuracy = accuracy_score(y_test, y_pred)\n",
    "    roc_auc = roc_auc_score(y_test, y_pred_proba)\n",
    "    \n",
    "    # Cross-validation\n",
    "    cv_scores = cross_val_score(clf, X_train_model, y_train, cv=5, scoring='accuracy')\n",
    "    \n",
    "    # Store results\n",
    "    results.append({\n",
    "        'Model': name,\n",
    "        'Accuracy': accuracy,\n",
    "        'ROC AUC': roc_auc,\n",
    "        'CV Mean': cv_scores.mean(),\n",
    "        'CV Std': cv_scores.std()\n",
    "    })\n",
    "    \n",
    "    # Print confusion matrix for top models\n",
    "    if name in ['Random Forest', 'XGBoost']:\n",
    "        cm = confusion_matrix(y_test, y_pred)\n",
    "        plt.figure(figsize=(4, 3))\n",
    "        sns.heatmap(cm, annot=True, fmt='d', cmap='Blues')\n",
    "        plt.title(f'{name} - Confusion Matrix')\n",
    "        plt.xlabel('Predicted')\n",
    "        plt.ylabel('Actual')\n",
    "        plt.show()"
   ]
  },
  {
   "cell_type": "markdown",
   "metadata": {},
   "source": [
    "# Create results dataframe"
   ]
  },
  {
   "cell_type": "code",
   "execution_count": null,
   "metadata": {
    "execution": {
     "iopub.execute_input": "2025-10-04T15:55:57.844030Z",
     "iopub.status.busy": "2025-10-04T15:55:57.843708Z",
     "iopub.status.idle": "2025-10-04T15:55:57.856973Z",
     "shell.execute_reply": "2025-10-04T15:55:57.855482Z",
     "shell.execute_reply.started": "2025-10-04T15:55:57.844004Z"
    },
    "trusted": true
   },
   "outputs": [
    {
     "name": "stdout",
     "output_type": "stream",
     "text": [
      "\n",
      "======================================================================\n",
      "📊 MODEL COMPARISON SUMMARY\n",
      "======================================================================\n"
     ]
    },
    {
     "data": {
      "text/html": [
       "<div>\n",
       "<style scoped>\n",
       "    .dataframe tbody tr th:only-of-type {\n",
       "        vertical-align: middle;\n",
       "    }\n",
       "\n",
       "    .dataframe tbody tr th {\n",
       "        vertical-align: top;\n",
       "    }\n",
       "\n",
       "    .dataframe thead th {\n",
       "        text-align: right;\n",
       "    }\n",
       "</style>\n",
       "<table border=\"1\" class=\"dataframe\">\n",
       "  <thead>\n",
       "    <tr style=\"text-align: right;\">\n",
       "      <th></th>\n",
       "      <th>Model</th>\n",
       "      <th>Accuracy</th>\n",
       "      <th>ROC AUC</th>\n",
       "      <th>CV Mean</th>\n",
       "      <th>CV Std</th>\n",
       "    </tr>\n",
       "  </thead>\n",
       "  <tbody>\n",
       "    <tr>\n",
       "      <th>0</th>\n",
       "      <td>Random Forest</td>\n",
       "      <td>0.8361</td>\n",
       "      <td>0.9161</td>\n",
       "      <td>0.8309</td>\n",
       "      <td>0.0469</td>\n",
       "    </tr>\n",
       "    <tr>\n",
       "      <th>1</th>\n",
       "      <td>XGBoost</td>\n",
       "      <td>0.8033</td>\n",
       "      <td>0.8561</td>\n",
       "      <td>0.7895</td>\n",
       "      <td>0.0404</td>\n",
       "    </tr>\n",
       "    <tr>\n",
       "      <th>2</th>\n",
       "      <td>Logistic Regression</td>\n",
       "      <td>0.8033</td>\n",
       "      <td>0.8690</td>\n",
       "      <td>0.8309</td>\n",
       "      <td>0.0409</td>\n",
       "    </tr>\n",
       "    <tr>\n",
       "      <th>3</th>\n",
       "      <td>SVM</td>\n",
       "      <td>0.8197</td>\n",
       "      <td>0.8831</td>\n",
       "      <td>0.8020</td>\n",
       "      <td>0.0388</td>\n",
       "    </tr>\n",
       "    <tr>\n",
       "      <th>4</th>\n",
       "      <td>K-Nearest Neighbors</td>\n",
       "      <td>0.8033</td>\n",
       "      <td>0.8631</td>\n",
       "      <td>0.8018</td>\n",
       "      <td>0.0268</td>\n",
       "    </tr>\n",
       "    <tr>\n",
       "      <th>5</th>\n",
       "      <td>Gradient Boosting</td>\n",
       "      <td>0.8197</td>\n",
       "      <td>0.8777</td>\n",
       "      <td>0.8020</td>\n",
       "      <td>0.0647</td>\n",
       "    </tr>\n",
       "  </tbody>\n",
       "</table>\n",
       "</div>"
      ],
      "text/plain": [
       "                 Model  Accuracy  ROC AUC  CV Mean  CV Std\n",
       "0        Random Forest    0.8361   0.9161   0.8309  0.0469\n",
       "1              XGBoost    0.8033   0.8561   0.7895  0.0404\n",
       "2  Logistic Regression    0.8033   0.8690   0.8309  0.0409\n",
       "3                  SVM    0.8197   0.8831   0.8020  0.0388\n",
       "4  K-Nearest Neighbors    0.8033   0.8631   0.8018  0.0268\n",
       "5    Gradient Boosting    0.8197   0.8777   0.8020  0.0647"
      ]
     },
     "metadata": {},
     "output_type": "display_data"
    }
   ],
   "source": [
    "\n",
    "results_df = pd.DataFrame(results)\n",
    "print(\"\\n\" + \"=\"*70)\n",
    "print(\"📊 MODEL COMPARISON SUMMARY\")\n",
    "print(\"=\"*70)\n",
    "display(results_df.round(4))"
   ]
  },
  {
   "cell_type": "markdown",
   "metadata": {},
   "source": [
    "# Accuracy comparison"
   ]
  },
  {
   "cell_type": "code",
   "execution_count": null,
   "metadata": {
    "execution": {
     "iopub.execute_input": "2025-10-04T15:58:36.656981Z",
     "iopub.status.busy": "2025-10-04T15:58:36.656560Z",
     "iopub.status.idle": "2025-10-04T15:58:36.685536Z",
     "shell.execute_reply": "2025-10-04T15:58:36.684740Z",
     "shell.execute_reply.started": "2025-10-04T15:58:36.656953Z"
    },
    "trusted": true
   },
   "outputs": [],
   "source": [
    "\n",
    "results_sorted = results_df.sort_values('Accuracy')\n",
    "axes[0,0].barh(results_sorted['Model'], results_sorted['Accuracy'], color='skyblue')\n",
    "axes[0,0].set_title('Model Accuracy Comparison')\n",
    "axes[0,0].set_xlabel('Accuracy')\n",
    "axes[0,0].set_xlim(0, 1)\n",
    "\n",
    "# Add value labels on bars\n",
    "for i, v in enumerate(results_sorted['Accuracy']):\n",
    "    axes[0,0].text(v + 0.01, i, f'{v:.3f}', va='center')\n",
    "\n",
    "# ROC AUC comparison\n",
    "results_sorted_auc = results_df.sort_values('ROC AUC')\n",
    "axes[0,1].barh(results_sorted_auc['Model'], results_sorted_auc['ROC AUC'], color='lightgreen')\n",
    "axes[0,1].set_title('ROC AUC Comparison')\n",
    "axes[0,1].set_xlabel('ROC AUC Score')\n",
    "axes[0,1].set_xlim(0, 1)\n",
    "\n",
    "for i, v in enumerate(results_sorted_auc['ROC AUC']):\n",
    "    axes[0,1].text(v + 0.01, i, f'{v:.3f}', va='center')"
   ]
  },
  {
   "cell_type": "markdown",
   "metadata": {},
   "source": [
    "# Cross-validation comparison"
   ]
  },
  {
   "cell_type": "code",
   "execution_count": null,
   "metadata": {
    "execution": {
     "iopub.execute_input": "2025-10-04T15:58:38.357061Z",
     "iopub.status.busy": "2025-10-04T15:58:38.356791Z",
     "iopub.status.idle": "2025-10-04T15:58:38.381378Z",
     "shell.execute_reply": "2025-10-04T15:58:38.380383Z",
     "shell.execute_reply.started": "2025-10-04T15:58:38.357043Z"
    },
    "trusted": true
   },
   "outputs": [],
   "source": [
    "\n",
    "results_sorted_cv = results_df.sort_values('CV Mean')\n",
    "axes[1,0].barh(results_sorted_cv['Model'], results_sorted_cv['CV Mean'], \n",
    "               xerr=results_sorted_cv['CV Std'], color='lightcoral', alpha=0.7)\n",
    "axes[1,0].set_title('Cross-Validation Accuracy (Mean ± Std)')\n",
    "axes[1,0].set_xlabel('CV Accuracy')\n",
    "axes[1,0].set_xlim(0, 1)\n",
    "\n",
    "for i, v in enumerate(results_sorted_cv['CV Mean']):\n",
    "    axes[1,0].text(v + 0.01, i, f'{v:.3f}', va='center')"
   ]
  },
  {
   "cell_type": "code",
   "execution_count": 36,
   "metadata": {
    "execution": {
     "iopub.execute_input": "2025-10-04T15:58:38.407880Z",
     "iopub.status.busy": "2025-10-04T15:58:38.407043Z",
     "iopub.status.idle": "2025-10-04T15:58:38.588053Z",
     "shell.execute_reply": "2025-10-04T15:58:38.587269Z",
     "shell.execute_reply.started": "2025-10-04T15:58:38.407851Z"
    },
    "trusted": true
   },
   "outputs": [
    {
     "data": {
      "text/plain": [
       "<Figure size 640x480 with 0 Axes>"
      ]
     },
     "metadata": {},
     "output_type": "display_data"
    }
   ],
   "source": [
    "# Feature importance from Random Forest\n",
    "rf_model = RandomForestClassifier(random_state=42)\n",
    "rf_model.fit(X_train, y_train)\n",
    "feature_importance = pd.DataFrame({\n",
    "    'feature': X.columns,\n",
    "    'importance': rf_model.feature_importances_\n",
    "}).sort_values('importance', ascending=True)\n",
    "\n",
    "feature_importance.plot(kind='barh', x='feature', y='importance', \n",
    "                      ax=axes[1,1], color='purple', alpha=0.7)\n",
    "axes[1,1].set_title('Random Forest Feature Importance')\n",
    "axes[1,1].set_xlabel('Importance')\n",
    "\n",
    "plt.tight_layout()\n",
    "plt.show()"
   ]
  },
  {
   "cell_type": "markdown",
   "metadata": {},
   "source": [
    "# Hyperparameter Tuning for Best Model"
   ]
  },
  {
   "cell_type": "code",
   "execution_count": null,
   "metadata": {
    "execution": {
     "iopub.execute_input": "2025-10-04T15:58:40.452298Z",
     "iopub.status.busy": "2025-10-04T15:58:40.452002Z",
     "iopub.status.idle": "2025-10-04T15:58:51.952972Z",
     "shell.execute_reply": "2025-10-04T15:58:51.952113Z",
     "shell.execute_reply.started": "2025-10-04T15:58:40.452277Z"
    },
    "trusted": true
   },
   "outputs": [
    {
     "name": "stdout",
     "output_type": "stream",
     "text": [
      "\n",
      "🎯 Performing hyperparameter tuning for Random Forest...\n",
      "Fitting 5 folds for each of 24 candidates, totalling 120 fits\n",
      "\n",
      "✅ Hyperparameter tuning completed!\n",
      "Best parameters: {'max_depth': 10, 'min_samples_leaf': 2, 'min_samples_split': 2, 'n_estimators': 100}\n",
      "Best cross-validation score: 0.8391\n"
     ]
    }
   ],
   "source": [
    "\n",
    "print(\"\\n🎯 Performing hyperparameter tuning for Random Forest...\")\n",
    "\n",
    "# Simplified parameter grid for faster execution in Kaggle\n",
    "param_grid = {\n",
    "    'n_estimators': [100, 200],\n",
    "    'max_depth': [10, 20, None],\n",
    "    'min_samples_split': [2, 5],\n",
    "    'min_samples_leaf': [1, 2]\n",
    "}\n",
    "\n",
    "rf = RandomForestClassifier(random_state=42)\n",
    "grid_search = GridSearchCV(rf, param_grid, cv=5, scoring='accuracy', n_jobs=-1, verbose=1)\n",
    "grid_search.fit(X_train, y_train)\n",
    "\n",
    "print(\"\\n✅ Hyperparameter tuning completed!\")\n",
    "print(\"Best parameters:\", grid_search.best_params_)\n",
    "print(\"Best cross-validation score: {:.4f}\".format(grid_search.best_score_))"
   ]
  },
  {
   "cell_type": "code",
   "execution_count": 38,
   "metadata": {
    "execution": {
     "iopub.execute_input": "2025-10-04T15:58:51.954522Z",
     "iopub.status.busy": "2025-10-04T15:58:51.954276Z",
     "iopub.status.idle": "2025-10-04T15:58:51.982718Z",
     "shell.execute_reply": "2025-10-04T15:58:51.981920Z",
     "shell.execute_reply.started": "2025-10-04T15:58:51.954503Z"
    },
    "trusted": true
   },
   "outputs": [
    {
     "name": "stdout",
     "output_type": "stream",
     "text": [
      "\n",
      "🎉 Best Model Test Accuracy: 0.8361\n",
      "🎉 Best Model ROC AUC: 0.8972\n"
     ]
    }
   ],
   "source": [
    "# Train and evaluate the best model\n",
    "best_model = grid_search.best_estimator_\n",
    "y_pred_best = best_model.predict(X_test)\n",
    "y_pred_proba_best = best_model.predict_proba(X_test)[:, 1]\n",
    "\n",
    "best_accuracy = accuracy_score(y_test, y_pred_best)\n",
    "best_auc = roc_auc_score(y_test, y_pred_proba_best)\n",
    "\n",
    "print(f\"\\n🎉 Best Model Test Accuracy: {best_accuracy:.4f}\")\n",
    "print(f\"🎉 Best Model ROC AUC: {best_auc:.4f}\")"
   ]
  },
  {
   "cell_type": "code",
   "execution_count": 39,
   "metadata": {
    "execution": {
     "iopub.execute_input": "2025-10-04T15:58:51.983824Z",
     "iopub.status.busy": "2025-10-04T15:58:51.983523Z",
     "iopub.status.idle": "2025-10-04T15:58:51.995671Z",
     "shell.execute_reply": "2025-10-04T15:58:51.994878Z",
     "shell.execute_reply.started": "2025-10-04T15:58:51.983798Z"
    },
    "trusted": true
   },
   "outputs": [
    {
     "name": "stdout",
     "output_type": "stream",
     "text": [
      "\n",
      "======================================================================\n",
      "🏆 FINAL MODEL EVALUATION\n",
      "======================================================================\n"
     ]
    },
    {
     "data": {
      "text/plain": [
       "<Figure size 1800x500 with 0 Axes>"
      ]
     },
     "execution_count": 39,
     "metadata": {},
     "output_type": "execute_result"
    },
    {
     "data": {
      "text/plain": [
       "<Figure size 1800x500 with 0 Axes>"
      ]
     },
     "metadata": {},
     "output_type": "display_data"
    }
   ],
   "source": [
    "# Final Comprehensive Evaluation\n",
    "print(\"\\n\" + \"=\"*70)\n",
    "print(\"🏆 FINAL MODEL EVALUATION\")\n",
    "print(\"=\"*70)\n",
    "\n",
    "# Create comprehensive evaluation plot\n",
    "plt.figure(figsize=(18, 5))"
   ]
  },
  {
   "cell_type": "code",
   "execution_count": 40,
   "metadata": {
    "execution": {
     "iopub.execute_input": "2025-10-04T15:58:51.997697Z",
     "iopub.status.busy": "2025-10-04T15:58:51.997281Z",
     "iopub.status.idle": "2025-10-04T15:58:52.126907Z",
     "shell.execute_reply": "2025-10-04T15:58:52.125958Z",
     "shell.execute_reply.started": "2025-10-04T15:58:51.997672Z"
    },
    "trusted": true
   },
   "outputs": [
    {
     "data": {
      "text/plain": [
       "Text(50.722222222222214, 0.5, 'True Label\\n(0: No Disease, 1: Disease)')"
      ]
     },
     "execution_count": 40,
     "metadata": {},
     "output_type": "execute_result"
    },
    {
     "data": {
      "image/png": "[encoded data removed]",
      "text/plain": [
       "<Figure size 640x480 with 1 Axes>"
      ]
     },
     "metadata": {},
     "output_type": "display_data"
    }
   ],
   "source": [
    "# 1. Confusion Matrix\n",
    "plt.subplot(1, 3, 1)\n",
    "cm = confusion_matrix(y_test, y_pred_best)\n",
    "sns.heatmap(cm, annot=True, fmt='d', cmap='Blues', cbar=False)\n",
    "plt.title('Confusion Matrix - Best Model\\n(Random Forest)', fontsize=14, fontweight='bold')\n",
    "plt.xlabel('Predicted Label\\n(0: No Disease, 1: Disease)')\n",
    "plt.ylabel('True Label\\n(0: No Disease, 1: Disease)')"
   ]
  },
  {
   "cell_type": "code",
   "execution_count": 41,
   "metadata": {
    "execution": {
     "iopub.execute_input": "2025-10-04T15:58:52.128232Z",
     "iopub.status.busy": "2025-10-04T15:58:52.127967Z",
     "iopub.status.idle": "2025-10-04T15:58:52.331423Z",
     "shell.execute_reply": "2025-10-04T15:58:52.330471Z",
     "shell.execute_reply.started": "2025-10-04T15:58:52.128209Z"
    },
    "trusted": true
   },
   "outputs": [
    {
     "data": {
      "image/png": "[encoded data removed]",
      "text/plain": [
       "<Figure size 640x480 with 1 Axes>"
      ]
     },
     "metadata": {},
     "output_type": "display_data"
    }
   ],
   "source": [
    "# 2. ROC Curve\n",
    "plt.subplot(1, 3, 2)\n",
    "fpr, tpr, thresholds = roc_curve(y_test, y_pred_proba_best)\n",
    "plt.plot(fpr, tpr, color='darkorange', lw=3, label=f'ROC curve (AUC = {best_auc:.3f})')\n",
    "plt.plot([0, 1], [0, 1], color='navy', lw=2, linestyle='--', alpha=0.5)\n",
    "plt.xlim([0.0, 1.0])\n",
    "plt.ylim([0.0, 1.05])\n",
    "plt.xlabel('False Positive Rate')\n",
    "plt.ylabel('True Positive Rate')\n",
    "plt.title('ROC Curve', fontsize=14, fontweight='bold')\n",
    "plt.legend(loc=\"lower right\")\n",
    "plt.grid(True, alpha=0.3)"
   ]
  },
  {
   "cell_type": "code",
   "execution_count": 42,
   "metadata": {
    "execution": {
     "iopub.execute_input": "2025-10-04T15:58:52.332678Z",
     "iopub.status.busy": "2025-10-04T15:58:52.332358Z",
     "iopub.status.idle": "2025-10-04T15:58:52.716219Z",
     "shell.execute_reply": "2025-10-04T15:58:52.715379Z",
     "shell.execute_reply.started": "2025-10-04T15:58:52.332650Z"
    },
    "trusted": true
   },
   "outputs": [
    {
     "data": {
      "image/png": "[encoded data removed]",
      "text/plain": [
       "<Figure size 640x480 with 1 Axes>"
      ]
     },
     "metadata": {},
     "output_type": "display_data"
    },
    {
     "data": {
      "image/png": "[encoded data removed]",
      "text/plain": [
       "<Figure size 640x480 with 1 Axes>"
      ]
     },
     "metadata": {},
     "output_type": "display_data"
    }
   ],
   "source": [
    "# 3. Feature Importance from tuned model\n",
    "plt.subplot(1, 3, 3)\n",
    "feature_importance_tuned = pd.DataFrame({\n",
    "    'feature': X.columns,\n",
    "    'importance': best_model.feature_importances_\n",
    "}).sort_values('importance', ascending=True)\n",
    "\n",
    "colors = plt.cm.viridis(np.linspace(0, 1, len(feature_importance_tuned)))\n",
    "feature_importance_tuned.plot(kind='barh', x='feature', y='importance', \n",
    "                            color=colors, alpha=0.8)\n",
    "plt.title('Feature Importance - Tuned Model', fontsize=14, fontweight='bold')\n",
    "plt.xlabel('Importance Score')\n",
    "\n",
    "plt.tight_layout()\n",
    "plt.show()"
   ]
  },
  {
   "cell_type": "code",
   "execution_count": 43,
   "metadata": {
    "execution": {
     "iopub.execute_input": "2025-10-04T15:58:52.717500Z",
     "iopub.status.busy": "2025-10-04T15:58:52.717243Z",
     "iopub.status.idle": "2025-10-04T15:58:52.738793Z",
     "shell.execute_reply": "2025-10-04T15:58:52.737708Z",
     "shell.execute_reply.started": "2025-10-04T15:58:52.717476Z"
    },
    "trusted": true
   },
   "outputs": [
    {
     "name": "stdout",
     "output_type": "stream",
     "text": [
      "\n",
      "📋 Detailed Classification Report:\n",
      "              precision    recall  f1-score   support\n",
      "\n",
      "  No Disease       0.91      0.71      0.80        28\n",
      "     Disease       0.79      0.94      0.86        33\n",
      "\n",
      "    accuracy                           0.84        61\n",
      "   macro avg       0.85      0.83      0.83        61\n",
      "weighted avg       0.85      0.84      0.83        61\n",
      "\n",
      "\n",
      "======================================================================\n",
      "💡 KEY INSIGHTS AND RECOMMENDATIONS\n",
      "======================================================================\n",
      "🎯 Best Performing Model: Random Forest\n",
      "📈 Best Accuracy Achieved: 0.836\n",
      "🔍 Dataset Balance: {1: 165, 0: 138}\n",
      "🌟 Tuned Model Improvement: 0.0000\n",
      "\n",
      "📊 Top 5 Most Important Features:\n",
      "   1. ca: 0.085\n",
      "   2. oldpeak: 0.111\n",
      "   3. thal: 0.116\n",
      "   4. thalach: 0.119\n",
      "   5. cp: 0.175\n",
      "\n",
      "💡 Business Impact:\n",
      "   • Model can accurately predict heart disease with 83.6% accuracy\n",
      "   • Key indicators: ca, oldpeak, thal, thalach, cp\n",
      "   • Ready for deployment in clinical decision support systems\n",
      "\n",
      "✅ Analysis completed successfully!\n"
     ]
    }
   ],
   "source": [
    "# Detailed performance metrics\n",
    "print(\"\\n📋 Detailed Classification Report:\")\n",
    "print(classification_report(y_test, y_pred_best, target_names=['No Disease', 'Disease']))\n",
    "\n",
    "# Key Insights Summary\n",
    "print(\"\\n\" + \"=\"*70)\n",
    "print(\"💡 KEY INSIGHTS AND RECOMMENDATIONS\")\n",
    "print(\"=\"*70)\n",
    "\n",
    "print(f\"🎯 Best Performing Model: {results_df.loc[results_df['Accuracy'].idxmax(), 'Model']}\")\n",
    "print(f\"📈 Best Accuracy Achieved: {results_df['Accuracy'].max():.3f}\")\n",
    "print(f\"🔍 Dataset Balance: {dict(df['target'].value_counts())}\")\n",
    "print(f\"🌟 Tuned Model Improvement: {best_accuracy - results_df.loc[results_df['Model'] == 'Random Forest', 'Accuracy'].iloc[0]:.4f}\")\n",
    "\n",
    "print(f\"\\n📊 Top 5 Most Important Features:\")\n",
    "top_features = feature_importance_tuned.tail(5)\n",
    "for i, (idx, row) in enumerate(top_features.iterrows(), 1):\n",
    "    print(f\"   {i}. {row['feature']}: {row['importance']:.3f}\")\n",
    "\n",
    "print(f\"\\n💡 Business Impact:\")\n",
    "print(f\"   • Model can accurately predict heart disease with {best_accuracy*100:.1f}% accuracy\")\n",
    "print(f\"   • Key indicators: {', '.join(top_features['feature'].tolist())}\")\n",
    "print(f\"   • Ready for deployment in clinical decision support systems\")\n",
    "\n",
    "print(\"\\n✅ Analysis completed successfully!\")"
   ]
  }
 ],
 "metadata": {
  "kaggle": {
   "accelerator": "none",
   "dataSources": [
    {
     "datasetId": 863468,
     "sourceId": 1471761,
     "sourceType": "datasetVersion"
    }
   ],
   "dockerImageVersionId": 31089,
   "isGpuEnabled": false,
   "isInternetEnabled": true,
   "language": "python",
   "sourceType": "notebook"
  },
  "kernelspec": {
   "display_name": "Python 3",
   "language": "python",
   "name": "python3"
  },
  "language_info": {
   "codemirror_mode": {
    "name": "ipython",
    "version": 3
   },
   "file_extension": ".py",
   "mimetype": "text/x-python",
   "name": "python",
   "nbconvert_exporter": "python",
   "pygments_lexer": "ipython3",
   "version": "3.11.13"
  }
 },
 "nbformat": 4,
 "nbformat_minor": 4
}
